{
  "cells": [
    {
      "cell_type": "markdown",
      "metadata": {
        "id": "Emv880Hk4hAq"
      },
      "source": [
        "### Mind the gap\n",
        "\n",
        "This project aims to identify, measure, and mitigate social biases, such as gender, race, or profession-related stereotypes, in lightweight transformer models through hands-on fine-tuning and evaluation on targeted NLP tasks. More specifically, the project should implement a four-step methodology, defined as follows:\n",
        "\n",
        "1. Choose a lightweight pre-trained transformer model (e.g., DistilBERT, ALBERT, RoBERTa-base) suitable for local fine-tuning and evaluation.\n",
        "2. Evaluate the presence and extent of social bias (e.g., gender, racial, or occupational stereotypes) using dedicated benchmark datasets. Both quantitative metrics and qualitative outputs should be evaluated.\n",
        "3. Apply a bias mitigation technique, such as **fine-tuning on curated counter-stereotypical data**, integrating **adapter layers**, or employing **contrastive learning**, while keeping the solution computationally efficient and transparent.\n",
        "4. Re-assess the model using the same benchmark(s) to measure improvements. We should compare pre- and post-intervention results, discuss trade-offs (e.g., performance vs. fairness), and visualize the impact of their approach.\n",
        "\n",
        "#### Dataset\n",
        "- [StereoSet: Measuring stereotypical bias in pretrained language models](https://github.com/moinnadeem/StereoSet). Nadeem, M., Bethke, A., & Reddy, S. (2020). StereoSet: Measuring stereotypical bias in pretrained language models. *arXiv preprint arXiv:2004.09456*.\n",
        "- [StereoSet: Measuring stereotypical bias in pretrained language models](https://huggingface.co/datasets/McGill-NLP/stereoset). Hugging Face co.\n",
        "\n",
        "#### References\n",
        "- [StereoSet: Measuring stereotypical bias in pretrained language models](https://aclanthology.org/2021.acl-long.416/) 2021.acl-long.416."
      ]
    },
    {
      "cell_type": "code",
      "execution_count": 38,
      "metadata": {
        "colab": {
          "base_uri": "https://localhost:8080/"
        },
        "id": "0ZodFEpEh5vD",
        "outputId": "064cd7c3-b96a-4d83-bbb8-0afde63b4f06"
      },
      "outputs": [],
      "source": [
        "import pandas as pd\n",
        "import numpy as np\n",
        "from transformers import AutoConfig, AutoTokenizer\n",
        "from transformers import get_scheduler\n",
        "from torch.optim import AdamW\n",
        "import torch\n",
        "import torch.nn as nn\n",
        "import matplotlib.pyplot as plt\n",
        "from torch.utils.data import DataLoader, random_split\n",
        "from sklearn import preprocessing\n",
        "from sklearn.metrics import classification_report\n",
        "from collections import defaultdict\n",
        "from tqdm import tqdm\n",
        "import json\n",
        "#to output plots within the notebook\n",
        "%matplotlib inline\n",
        "\n",
        "import importlib\n",
        "import inspect\n",
        "import os\n",
        "import sys\n",
        "\n",
        "\n",
        "# %cd /content/\n",
        "# !ls -R\n",
        "# repo_name = \"MindTheGap\"\n",
        "# #!rm -rf {repo_name}\n",
        "# if not os.path.exists(repo_name):\n",
        "#     print(f\"Directory {repo_name} does not exist, proceeding with clone.\")\n",
        "#     !git clone https://github.com/Abudo-S/MindTheGap.git\n",
        "\n",
        "# %cd MindTheGap\n",
        "\n",
        "import AdaptedMLMTransformer as AdaptedMLMTransformer_Module\n",
        "import AdaptedNSPTransformer as AdaptedNSPTransformer_Module\n",
        "import intersentence_loader as intersentence_loader_Module\n",
        "import SentenceEvaluator as SentenceEvaluator_Module\n",
        "import ScoreEvaluator as ScoreEvaluator_Module\n",
        "import dataloader\n",
        "importlib.reload(AdaptedMLMTransformer_Module) # in case of updates\n",
        "importlib.reload(AdaptedNSPTransformer_Module) # in case of updates\n",
        "importlib.reload(intersentence_loader_Module) # in case of updates\n",
        "importlib.reload(SentenceEvaluator_Module) # in case of updates\n",
        "importlib.reload(ScoreEvaluator_Module) # in case of updates\n",
        "importlib.reload(dataloader) # in case of updates\n",
        "from AdaptedMLMTransformer import AdaptedMLMTransformer\n",
        "from AdaptedNSPTransformer import AdaptedNSPTransformer\n",
        "from intersentence_loader import IntersentenceDataset\n",
        "from SentenceEvaluator import SentenceEvaluator\n",
        "from ScoreEvaluator import ScoreEvaluator"
      ]
    },
    {
      "cell_type": "markdown",
      "metadata": {
        "id": "YoNBBQ5D4hAw"
      },
      "source": [
        "### General Observations:\n",
        "- The given dataset contains 2123 intersentence contexts and 2106 intrasentence contexts, each context has 3 sentences that are labeled as ```stereotype, anti-stereotype and unrelated``` with respect to the target bias type.\n",
        "- Intrasentences focus on biases at the word or sub-phrase level at position \"BLANK\". Meanwhile intersentences focus on biases within the relationship between the context and its associated sentences.\n"
      ]
    },
    {
      "cell_type": "markdown",
      "metadata": {
        "id": "N7B4AW564hAw"
      },
      "source": [
        "#### Tasks:\n",
        "- Intrasentences are considered as a masked-language-modeling (MLM) task in which the model is given a sentence where a certain percentage of the tokens have been replaced with a special [MASK] token. The model's task is to predict the original words/sub-words of the masked tokens based on the surrounding context.\n",
        "- Intersentences are considered as a next-sentence-prediction (NSP) task in which the model is given a pair of sentences, a (context) and (one of the associated sentences) formated as ```[SEP] sentence_A [SEP] sentence_B [SEP]``` or ```[CLS] sentence_A [SEP] sentence_B [SEP]```. Then the model outputs the probabilities that describe the relationship between both sentences into one of three categories:\n",
        "\n",
        "    * IsNext [1]: The second sentence is the actual next sentence in the original text corpus, following the first.\n",
        "\n",
        "    * NotNext [0]: The second sentence is unrelated to the first.\n",
        "\n",
        "The probability for the \"IsNext\" class indicates how confident the model is that the second sentence logically follows the first. In our case we can use the probability of \"IsNext\" to compare the conjunction between each associated labeled sentence with the main context."
      ]
    },
    {
      "cell_type": "markdown",
      "metadata": {
        "id": "S7sVvS2u6OY9"
      },
      "source": [
        "## Data Preprocessing\n",
        "- Intrasentences: The dataloader creates a sentence for each target token of the masked word/subword that replaces \"BLANK\" with respect to the target word, concatenating the original context.\n",
        "\n",
        "- Intersentences: The dataloader creates a combined special sentence, concatenating the context with each associated sentence singularly. The generated sentence depends on the used tokenizer, some tokenizers use [CLS] and [SEP], others use only [SEP]. So it's necessary to use a compatible tokenzier with the pre-trained model.\n"
      ]
    },
    {
      "cell_type": "markdown",
      "metadata": {
        "id": "x_Iy4WvhX4fh"
      },
      "source": [
        "## Context's Sentences Evaluation\n",
        "- Intrasentences: The MLM model should predict the masked token in each sentence, calculating per each context the mean score of target tokens w.r.t. model's vocabulary. So our task isn't retrieving the highest score belonging to a random predicted word, but retrieving the score of our target word's tokens. Later the score belonging to each sentence is compared to the scores of other sentences belonging to the same context, in order to determine model's preference w.r.t. the target bias.\n",
        "\n",
        "- Intersentences: The NSP model should predict whether the second sentence can be the actual next sentence in the original text or not. So our task is to retrieve the score that describes the probability of the second sentence to follow the first sentence.\n",
        "\n"
      ]
    },
    {
      "cell_type": "markdown",
      "metadata": {
        "id": "hLz7DbetX_61"
      },
      "source": [
        "\n",
        "## Loss Calculation\n",
        "Applying Mean Squared Error (MSE) loss with the following target labels in case of different tasks.\n",
        "$$MSE = \\frac{1}{N}\\sum_{i=1}^{N}(y_i - \\hat{y}_i)^2$$\n",
        "\n",
        "- Intrasentences: The loss is calculated by taking average loss between the output tokens' probabilities and different token-score thresholds based on sentence's label:  \n",
        "    * Stereotyped sentences: the minmum value of the softMax function (theoretically 0 but since the softmax never outputs zero in practical evaluation, so we decided to set a very small threshold = **1e-5** for stereotyped sentences).\n",
        "    * Anti-stereotyped sentences: the maximum value of the softMax function (theoretically 1 but since the softmax never outputs 1 in practical evaluation, so we decided to set a very small threshold =  **0.999** for anti-stereotyped sentences).\n",
        "    * Unrelated sentences: w'd consider a threshold = **0.50** for neutral/unrelated sentences since they less relevant to the main context.\n",
        "\n",
        "- Intersentences: The loss is calculated by comparing the predict score of the second sentence (nextScore) and the pre-determined thresholds based on sentence's labels:  \n",
        "    * Stereotyped sentences: Since we'd like to reduce the prediction scores of stereotyped sentences (sentences labeled as \"stereotype\"); we can label them with **1e-5** (Not 0 for the same reason in the case of intrasentences), so when the model gives a reasonable score for a stereotyped sentence as a next sentence (nextScore > 0), we still need to **minimize** that score through an optimization process.\n",
        "    * Anti-stereotyped sentences: viceversa for anti-stereotyped sentences; we can label them with **0.999** (Not 1 for the same reason in the case of intrasentences), so when the model gives a reasonable score for an anti-stereotyped sentence as a next sentence (nextScore < 1), we still need to **maximize** that score through an optimization procedure.  \n",
        "    * Unrelated sentences: Meanwhile for unrelated sentences; we can label them with **0.50**, so if the model gives a a reasonable score for an unrelated sentence as a next sentence (nextScore > 0.50), we'd need to minimize the score w.r.t. the threshold of neutral/unrelated sentences (nextScore = 0.50).\n",
        "\n"
      ]
    },
    {
      "cell_type": "markdown",
      "metadata": {
        "id": "rfT4tQn61ePM"
      },
      "source": [
        "### Data Split and Model Comparability\n",
        "--todo--  \n",
        "- Since the NSP is not supported in different variations of BERT like (DistilBERT, ALBERT, RoBERTa-base) that are automatically loaded using `AutoModelForSequenceClassification`, the classification head is generated with random weights. In other words, these weights need to adjusted for our downstream task. We'd need to train only the classification head over training set by **freezing any other pre-trained parameters and optimizing classification head's parameters over training epochs.**  \n",
        "Stereoset dataset is split into training and test subsets, respectivelly with 85% and 15% of the orginal dataset (intersentences and intrasentences).\n",
        "- explain test data on pre-trained model (loss and SS evaluation in MLM and NSP) with bar plots.\n",
        "- explain training data on fine-tuned adapted model (loss and SS evaluation over epochs in MLM and NSP) with curve plots. (freeze pre-trained params including those belonging NSP head).\n",
        "- add explainability for bad scores either in case of pre-trained or fine-tuned models."
      ]
    },
    {
      "cell_type": "code",
      "execution_count": 2,
      "metadata": {
        "id": "pLn3HuBpdezQ"
      },
      "outputs": [],
      "source": [
        "# original_init = AdaptedMLMTransformer_Module.AdaptedMLMTransformer.__init__\n",
        "\n",
        "# # Corrected debug_init signature - assuming only model_name is a required parameter\n",
        "# def debug_init(self, model_name=\"roberta-base\"):\n",
        "#     print(f\"Initializing AdaptedMLMTransformer with model_name: {model_name}\")\n",
        "#     # Pass only the parameters that original_init expects\n",
        "#     original_init(self, model_name=model_name)\n",
        "#     print(\"AdaptedMLMTransformer initialized.\")\n",
        "#     for name, param in self.named_parameters():\n",
        "#         print(f\"Layer: {name}, Device: {param.device}, Dtype: {param.dtype}\")\n",
        "\n",
        "# AdaptedMLMTransformer_Module.AdaptedMLMTransformer.__init__ = debug_init"
      ]
    },
    {
      "cell_type": "code",
      "execution_count": 22,
      "metadata": {
        "id": "AoCm0rcTxhIj"
      },
      "outputs": [],
      "source": [
        "# os.environ['CUDA_LAUNCH_BLOCKING'] = '1'\n",
        "# os.environ['TORCH_USE_CUDA_DSA'] = '0'\n",
        "INPUT_FILE = \"data/stereo_dataset.json\"\n",
        "#INPUT_FILE = \"/content/MindTheGap/data/stereo_dataset.json\"\n",
        "OUTPUT_FILE_PRETRAINED =\"predictions.json\"\n",
        "OUTPUT_FILE_FINETUNED =\"predictions.json\"\n",
        "RESULTS_FILE = \"results.json\"\n",
        "OUTPUT_DIR = \"predictions/\"\n",
        "SAVED_MODEL_DIR = \"saved_models/\"\n",
        "SAVED_MLM_ADAPTER_DIR = os.path.join(SAVED_MODEL_DIR, \"mlm_adapter/\")\n",
        "SAVED_NSP_ADAPTER_DIR = os.path.join(SAVED_MODEL_DIR, \"nsp_adapter/\")\n",
        "NSP_LAYER_FILE_SUFFIX = \"nsp_classification_layer.pt\"\n",
        "BATCH_SIZE = 5\n",
        "MAX_SEQ_LENGTH = 128\n",
        "TRAINING_SET_SIZE_PERCENT = 0.85\n",
        "NUM_EPOCHS = 10\n",
        "LEARNING_RATE = 5e-5 #0.00005"
      ]
    },
    {
      "cell_type": "markdown",
      "metadata": {
        "id": "-NoVa-VtxhIk"
      },
      "source": [
        "### Train NSP Classification Layer for Intersentences"
      ]
    },
    {
      "cell_type": "code",
      "execution_count": 4,
      "metadata": {
        "id": "KfeMTsTUxhIk",
        "outputId": "3860ad58-3f49-4834-c99f-93b471578f07"
      },
      "outputs": [
        {
          "name": "stderr",
          "output_type": "stream",
          "text": [
            "Some weights of RobertaForSequenceClassification were not initialized from the model checkpoint at roberta-base and are newly initialized: ['classifier.dense.bias', 'classifier.dense.weight', 'classifier.out_proj.bias', 'classifier.out_proj.weight']\n",
            "You should probably TRAIN this model on a down-stream task to be able to use it for predictions and inference.\n"
          ]
        },
        {
          "name": "stdout",
          "output_type": "stream",
          "text": [
            "Loaded RobertaForSequenceClassification classification layer from saved_models/roberta-base_nsp_classification_layer.pt\n"
          ]
        }
      ],
      "source": [
        "pretrained_model_name=\"roberta-base\"\n",
        "nsp_model = AdaptedNSPTransformer(model_name=pretrained_model_name)\n",
        "\n",
        "nsp_layer_file = f\"{nsp_model.model_name}_{NSP_LAYER_FILE_SUFFIX}\"\n",
        "nsp_layer_path = os.path.join(SAVED_MODEL_DIR, nsp_layer_file)\n",
        "train_nsp_layer = False\n",
        "\n",
        "#try to load the NSP classification layer if it exists\n",
        "try:\n",
        "    nsp_model.load_nsp_layer(target_path=nsp_layer_path)\n",
        "except AssertionError as e:\n",
        "    train_nsp_layer = True"
      ]
    },
    {
      "cell_type": "code",
      "execution_count": 5,
      "metadata": {
        "id": "VIy44wAYxhIl",
        "outputId": "9e2243cd-d52c-4ed6-a07c-68d829fb92bc"
      },
      "outputs": [
        {
          "name": "stdout",
          "output_type": "stream",
          "text": [
            "Loading data/stereo_dataset.json...\n",
            "Model max position embeddings: 514\n",
            "Using device: cuda\n",
            "Using pretrained class: roberta-base\n",
            "First element of the [intrasentences] training set: ('e37e1426150a747dfae213cbe78a77e7', 212, tensor([[    0,  3684,    82,  1134,   217,   167,    31,  5490,    33, 50264,\n",
            "             2,     1,     1,     1,     1,     1,     1,     1,     1,     1,\n",
            "             1,     1,     1,     1,     1,     1,     1,     1,     1,     1,\n",
            "             1,     1,     1,     1,     1,     1,     1,     1,     1,     1,\n",
            "             1,     1,     1,     1,     1,     1,     1,     1,     1,     1,\n",
            "             1,     1,     1,     1,     1,     1,     1,     1,     1,     1,\n",
            "             1,     1,     1,     1,     1,     1,     1,     1,     1,     1,\n",
            "             1,     1,     1,     1,     1,     1,     1,     1,     1,     1,\n",
            "             1,     1,     1,     1,     1,     1,     1,     1,     1,     1,\n",
            "             1,     1,     1,     1,     1,     1,     1,     1,     1,     1,\n",
            "             1,     1,     1,     1,     1,     1,     1,     1,     1,     1,\n",
            "             1,     1,     1,     1,     1,     1,     1,     1,     1,     1,\n",
            "             1,     1,     1,     1,     1,     1,     1,     1]]), tensor([[1, 1, 1, 1, 1, 1, 1, 1, 1, 1, 1, 0, 0, 0, 0, 0, 0, 0, 0, 0, 0, 0, 0, 0,\n",
            "         0, 0, 0, 0, 0, 0, 0, 0, 0, 0, 0, 0, 0, 0, 0, 0, 0, 0, 0, 0, 0, 0, 0, 0,\n",
            "         0, 0, 0, 0, 0, 0, 0, 0, 0, 0, 0, 0, 0, 0, 0, 0, 0, 0, 0, 0, 0, 0, 0, 0,\n",
            "         0, 0, 0, 0, 0, 0, 0, 0, 0, 0, 0, 0, 0, 0, 0, 0, 0, 0, 0, 0, 0, 0, 0, 0,\n",
            "         0, 0, 0, 0, 0, 0, 0, 0, 0, 0, 0, 0, 0, 0, 0, 0, 0, 0, 0, 0, 0, 0, 0, 0,\n",
            "         0, 0, 0, 0, 0, 0, 0, 0]]), [], 1e-05)\n",
            "First element of the [intrasentances] test set: ('8af17904f8a93833bc89616ead6b9fed', 26414, tensor([[    0,   133,    82,    31, 13934,    32, 50264,     2,     1,     1,\n",
            "             1,     1,     1,     1,     1,     1,     1,     1,     1,     1,\n",
            "             1,     1,     1,     1,     1,     1,     1,     1,     1,     1,\n",
            "             1,     1,     1,     1,     1,     1,     1,     1,     1,     1,\n",
            "             1,     1,     1,     1,     1,     1,     1,     1,     1,     1,\n",
            "             1,     1,     1,     1,     1,     1,     1,     1,     1,     1,\n",
            "             1,     1,     1,     1,     1,     1,     1,     1,     1,     1,\n",
            "             1,     1,     1,     1,     1,     1,     1,     1,     1,     1,\n",
            "             1,     1,     1,     1,     1,     1,     1,     1,     1,     1,\n",
            "             1,     1,     1,     1,     1,     1,     1,     1,     1,     1,\n",
            "             1,     1,     1,     1,     1,     1,     1,     1,     1,     1,\n",
            "             1,     1,     1,     1,     1,     1,     1,     1,     1,     1,\n",
            "             1,     1,     1,     1,     1,     1,     1,     1]]), tensor([[1, 1, 1, 1, 1, 1, 1, 1, 0, 0, 0, 0, 0, 0, 0, 0, 0, 0, 0, 0, 0, 0, 0, 0,\n",
            "         0, 0, 0, 0, 0, 0, 0, 0, 0, 0, 0, 0, 0, 0, 0, 0, 0, 0, 0, 0, 0, 0, 0, 0,\n",
            "         0, 0, 0, 0, 0, 0, 0, 0, 0, 0, 0, 0, 0, 0, 0, 0, 0, 0, 0, 0, 0, 0, 0, 0,\n",
            "         0, 0, 0, 0, 0, 0, 0, 0, 0, 0, 0, 0, 0, 0, 0, 0, 0, 0, 0, 0, 0, 0, 0, 0,\n",
            "         0, 0, 0, 0, 0, 0, 0, 0, 0, 0, 0, 0, 0, 0, 0, 0, 0, 0, 0, 0, 0, 0, 0, 0,\n",
            "         0, 0, 0, 0, 0, 0, 0, 0]]), [], 0.999)\n",
            "Maximum sequence length found: -inf\n",
            "Maximum sequence length found: -inf\n",
            "First element of the [intersentences] training set: (tensor([[    0,   133, 11005,    21,    11,     5,  3588,   254, 31807,     4,\n",
            "             2,     2,   713,    16,    10,  3458,  2788,    14,    16,   455,\n",
            "             9,  3099,     8,  1337, 29500,     4,     2,     1,     1,     1,\n",
            "             1,     1,     1,     1,     1,     1,     1,     1,     1,     1,\n",
            "             1,     1,     1,     1,     1,     1,     1,     1,     1,     1,\n",
            "             1,     1,     1,     1,     1,     1,     1,     1,     1,     1,\n",
            "             1,     1,     1,     1,     1,     1,     1,     1,     1,     1,\n",
            "             1,     1,     1,     1,     1,     1,     1,     1,     1,     1,\n",
            "             1,     1,     1,     1,     1,     1,     1,     1,     1,     1,\n",
            "             1,     1,     1,     1,     1,     1,     1,     1,     1,     1,\n",
            "             1,     1,     1,     1,     1,     1,     1,     1,     1,     1,\n",
            "             1,     1,     1,     1,     1,     1,     1,     1,     1,     1,\n",
            "             1,     1,     1,     1,     1,     1,     1,     1]]), tensor([]), tensor([[1, 1, 1, 1, 1, 1, 1, 1, 1, 1, 1, 1, 1, 1, 1, 1, 1, 1, 1, 1, 1, 1, 1, 1,\n",
            "         1, 1, 1, 0, 0, 0, 0, 0, 0, 0, 0, 0, 0, 0, 0, 0, 0, 0, 0, 0, 0, 0, 0, 0,\n",
            "         0, 0, 0, 0, 0, 0, 0, 0, 0, 0, 0, 0, 0, 0, 0, 0, 0, 0, 0, 0, 0, 0, 0, 0,\n",
            "         0, 0, 0, 0, 0, 0, 0, 0, 0, 0, 0, 0, 0, 0, 0, 0, 0, 0, 0, 0, 0, 0, 0, 0,\n",
            "         0, 0, 0, 0, 0, 0, 0, 0, 0, 0, 0, 0, 0, 0, 0, 0, 0, 0, 0, 0, 0, 0, 0, 0,\n",
            "         0, 0, 0, 0, 0, 0, 0, 0]]), '3f60aff450f553039edde28c398ad38c', 0.999)\n",
            "First element of the [intersentances] test set: (tensor([[    0,   133, 10642, 11034,   300,    66,     9,    39,  2418,     4,\n",
            "             2,     2,  1708,     5,   313,  2773, 13136,    39, 10485,    18,\n",
            "             8, 13763,    66,     9,     5,  3428, 26983,    19,  5136,   137,\n",
            "         27373, 11303,   159,     5,  6485,     4,     2,     1,     1,     1,\n",
            "             1,     1,     1,     1,     1,     1,     1,     1,     1,     1,\n",
            "             1,     1,     1,     1,     1,     1,     1,     1,     1,     1,\n",
            "             1,     1,     1,     1,     1,     1,     1,     1,     1,     1,\n",
            "             1,     1,     1,     1,     1,     1,     1,     1,     1,     1,\n",
            "             1,     1,     1,     1,     1,     1,     1,     1,     1,     1,\n",
            "             1,     1,     1,     1,     1,     1,     1,     1,     1,     1,\n",
            "             1,     1,     1,     1,     1,     1,     1,     1,     1,     1,\n",
            "             1,     1,     1,     1,     1,     1,     1,     1,     1,     1,\n",
            "             1,     1,     1,     1,     1,     1,     1,     1]]), tensor([]), tensor([[1, 1, 1, 1, 1, 1, 1, 1, 1, 1, 1, 1, 1, 1, 1, 1, 1, 1, 1, 1, 1, 1, 1, 1,\n",
            "         1, 1, 1, 1, 1, 1, 1, 1, 1, 1, 1, 1, 1, 0, 0, 0, 0, 0, 0, 0, 0, 0, 0, 0,\n",
            "         0, 0, 0, 0, 0, 0, 0, 0, 0, 0, 0, 0, 0, 0, 0, 0, 0, 0, 0, 0, 0, 0, 0, 0,\n",
            "         0, 0, 0, 0, 0, 0, 0, 0, 0, 0, 0, 0, 0, 0, 0, 0, 0, 0, 0, 0, 0, 0, 0, 0,\n",
            "         0, 0, 0, 0, 0, 0, 0, 0, 0, 0, 0, 0, 0, 0, 0, 0, 0, 0, 0, 0, 0, 0, 0, 0,\n",
            "         0, 0, 0, 0, 0, 0, 0, 0]]), '4c7423534e5008bca9c38c8e2cebdd61', 0.999)\n"
          ]
        },
        {
          "name": "stderr",
          "output_type": "stream",
          "text": [
            "c:\\Users\\abudo\\source\\vscode_projects\\MindTheGap\\intersentence_loader.py:68: UserWarning: To copy construct from a tensor, it is recommended to use sourceTensor.detach().clone() or sourceTensor.detach().clone().requires_grad_(True), rather than torch.tensor(sourceTensor).\n",
            "  input_ids = torch.tensor(input_ids)\n",
            "c:\\Users\\abudo\\source\\vscode_projects\\MindTheGap\\intersentence_loader.py:70: UserWarning: To copy construct from a tensor, it is recommended to use sourceTensor.detach().clone() or sourceTensor.detach().clone().requires_grad_(True), rather than torch.tensor(sourceTensor).\n",
            "  attention_mask = torch.tensor(attention_mask)\n"
          ]
        }
      ],
      "source": [
        "#train_nsp_layer = True\n",
        "evaluator = SentenceEvaluator(input_file=INPUT_FILE, model_name=pretrained_model_name, batch_size=BATCH_SIZE)\n",
        "\n",
        "optimizer = AdamW(nsp_model.model.parameters(), lr=LEARNING_RATE)\n",
        "lr_scheduler = get_scheduler(\n",
        "    \"linear\",\n",
        "    optimizer=optimizer,\n",
        "    num_warmup_steps=0,\n",
        "    num_training_steps=NUM_EPOCHS * len(evaluator.inter_train_dataset)) \n",
        "\n",
        "perfermace_records = defaultdict(list)\n",
        "if train_nsp_layer:\n",
        "    #Train NSP head of AutoModelForSequenceClassification\n",
        "    for epoch in range(NUM_EPOCHS):\n",
        "        print(f\"Epoch {epoch+1}/{NUM_EPOCHS}\")\n",
        "        train_loss = nsp_model.train_epoch(train_dataset=evaluator.inter_train_dataset,\n",
        "                                           optimizer=optimizer,\n",
        "                                           lr_scheduler=lr_scheduler,\n",
        "                                           loss_fn=nn.MSELoss,\n",
        "                                           batch_size=BATCH_SIZE, \n",
        "                                           device=evaluator.device)\n",
        "\n",
        "        #record training and validation loss\n",
        "        # train_results = evaluator.evaluate_intersentence(targetModel=nsp_model, use_train_set=True)\n",
        "        # train_loss = sum([train_result['loss'] for train_result in train_results]) / len(train_results)\n",
        "        val_results = evaluator.evaluate_intersentence(targetModel=nsp_model)\n",
        "        val_loss = sum([val_result['loss'] for val_result in val_results]) / len(val_results)\n",
        "        print(f\"Training Loss: {train_loss}, Validation Loss: {val_loss}\")\n",
        "        perfermace_records['train_loss'].append(train_loss)\n",
        "        perfermace_records['val_loss'].append(val_loss)"
      ]
    },
    {
      "cell_type": "code",
      "execution_count": 6,
      "metadata": {
        "id": "vLzxunKZxhIm",
        "outputId": "f0e4238d-0863-4685-b65a-908732ad31e6"
      },
      "outputs": [],
      "source": [
        "#save NSP classification layer's weights\n",
        "if train_nsp_layer:\n",
        "    nsp_model.save_nsp_layer(target_path=nsp_layer_path)"
      ]
    },
    {
      "cell_type": "markdown",
      "metadata": {},
      "source": [
        "### Loss plot (after NSP classification head training)"
      ]
    },
    {
      "cell_type": "code",
      "execution_count": 7,
      "metadata": {
        "id": "_r2iTNc6xhIm"
      },
      "outputs": [],
      "source": [
        "'''\n",
        "model_evaluation should contain loss, val_loss, icat, val_icat\n",
        "'''\n",
        "def performance_plot(model_evaluation:dict, ignore_icat_plot=False):\n",
        "    plt.figure(figsize=(16, 6))\n",
        "\n",
        "    if not ignore_icat_plot:\n",
        "        plt.subplot(1, 2, 1)\n",
        "\n",
        "    #plot loss\n",
        "    plt.plot(model_evaluation['train_loss'])\n",
        "    plt.plot(model_evaluation['val_loss'])\n",
        "    plt.ylabel('Loss', size=12)\n",
        "    plt.xlabel('Epoch', size=12)\n",
        "    plt.legend(['training', 'validation'])\n",
        "\n",
        "    #plot icat score\n",
        "    if not ignore_icat_plot:\n",
        "        plt.subplot(1, 2, 2)\n",
        "        plt.plot(model_evaluation['train_icat'])\n",
        "        plt.plot(model_evaluation['val_icat'])\n",
        "        plt.ylabel('ICAT', size=12)\n",
        "        plt.xlabel('Epoch', size=12)\n",
        "        plt.legend(['training', 'validation'])\n",
        "\n",
        "    plt.show()\n"
      ]
    },
    {
      "cell_type": "code",
      "execution_count": null,
      "metadata": {
        "id": "nZ7CUTCExhIn",
        "outputId": "fc829223-3eac-40c3-dd81-b52cd4595de9"
      },
      "outputs": [],
      "source": [
        "if train_nsp_layer: #the NSP classification layer has been trained\n",
        "    performance_plot(perfermace_records, ignore_icat_plot=True)"
      ]
    },
    {
      "cell_type": "markdown",
      "metadata": {},
      "source": [
        "### Calculate Test Set Predictions (before applying bias mitigation)\n",
        "Either for intersentences or intrasentences"
      ]
    },
    {
      "cell_type": "code",
      "execution_count": null,
      "metadata": {
        "colab": {
          "base_uri": "https://localhost:8080/",
          "height": 1000
        },
        "id": "YEZqNR5tnUOv",
        "outputId": "ef31890d-0fa4-488d-e2f5-63552726a6e0"
      },
      "outputs": [
        {
          "name": "stdout",
          "output_type": "stream",
          "text": [
            "Moving model to GPU...\n",
            "Underlying model moved to cuda.\n",
            "AdaptedNSPTransformer instance moved to GPU.\n",
            "Calculating intersentence predictions...\n"
          ]
        },
        {
          "name": "stderr",
          "output_type": "stream",
          "text": [
            "  0%|          | 0/192 [00:00<?, ?it/s]c:\\Users\\abudo\\source\\vscode_projects\\MindTheGap\\SentenceEvaluator.py:246: UserWarning: To copy construct from a tensor, it is recommended to use sourceTensor.detach().clone() or sourceTensor.detach().clone().requires_grad_(True), rather than torch.tensor(sourceTensor).\n",
            "  loss = self.loss_fn(torch.tensor(outputs[idx, 1].item()), torch.tensor(sentence_label[idx]))\n",
            "  1%|          | 1/192 [00:00<01:34,  2.01it/s]c:\\Users\\abudo\\source\\vscode_projects\\MindTheGap\\SentenceEvaluator.py:246: UserWarning: To copy construct from a tensor, it is recommended to use sourceTensor.detach().clone() or sourceTensor.detach().clone().requires_grad_(True), rather than torch.tensor(sourceTensor).\n",
            "  loss = self.loss_fn(torch.tensor(outputs[idx, 1].item()), torch.tensor(sentence_label[idx]))\n",
            "100%|██████████| 192/192 [00:07<00:00, 24.16it/s]\n",
            "\n"
          ]
        },
        {
          "name": "stdout",
          "output_type": "stream",
          "text": [
            "Moving model to GPU...\n",
            "Underlying model moved to cuda.\n",
            "AdaptedMLMTransformer instance moved to GPU.\n",
            "Let's use 1 GPUs!\n",
            "Calculating intrasentence predictions...\n"
          ]
        },
        {
          "name": "stderr",
          "output_type": "stream",
          "text": [
            "100%|██████████| 338/338 [00:18<00:00, 18.62it/s]\n",
            "\n"
          ]
        }
      ],
      "source": [
        "results = evaluator.evaluate(inter_targetModel=nsp_model)\n",
        "#print(results)\n",
        "\n",
        "#save evaluation predictions\n",
        "output_file = f\"{pretrained_model_name}_{OUTPUT_FILE_PRETRAINED}\"\n",
        "output_file = os.path.join(OUTPUT_DIR, output_file)\n",
        "with open(output_file, \"w+\") as f:\n",
        "    json.dump(results, f, indent=2)"
      ]
    },
    {
      "cell_type": "markdown",
      "metadata": {
        "id": "V1etsFElVkgI"
      },
      "source": [
        "### Bias Evaluation\n",
        "The paper of ```StereoSet``` considers three main scores in order to evaluate the dataset: the LM Score, SS Score, and ICAT Score, each measures a different aspect of model's performance:\n",
        "\n",
        "- LM Score (Language Modeling Score)  \n",
        "  The LM Score is a check that measures a model's ability to distinguish between a semantically comperhensented sentence and a nonsensical, unrelated one. It essentially evaluates the model's fundamental language modeling proficiency.\n",
        "  $$ LM = \\frac{Score(Stereotype)+Score(Anti−stereotype)}{Score(Stereotype)+Score(Anti−stereotype)+Score(Unrelated)} * 100$$\n",
        "\n",
        "  The ideal LM Score is 100%, which indicates that the model correctly assigns a higher probability to the meaningful sentences (both stereotypical and anti-stereotypical) than to the unrelated sentence.\n",
        "  If a model has a low LM Score, it means it's a poor language model to begin with, and its SS Score cannot be trusted.\n",
        "\n",
        "- SS Score (Stereoset Score)  \n",
        "  The SS Score is a percentage that measures a model's preference for stereotypical over anti-stereotypical associations. A score above 50% indicates a bias towards stereotypes.\n",
        "\n",
        "  $$ SS ​= \\frac{Score(Stereotype)}{Score(Anti−stereotype)Score(Stereotype)} * 100$$\n",
        "\n",
        "- ICAT score (Idealized Context Association Test Score)  \n",
        "  The ICAT Score is the main, composite score (can be considered as **a metric for final evaluation** between models) that combines the LM Score and the SS Score into a single metric. It provides a balanced view of a model's bias taking into account its general language proficiency.\n",
        "  $$ ICAT = lm ∗ \\frac{min(ss, 100 − ss)}{50}$$\n",
        "  It rewards models that have a high LM Score and an SS Score close to 50%.\n"
      ]
    },
    {
      "cell_type": "code",
      "execution_count": 10,
      "metadata": {
        "id": "-QdUDlc_xhIo",
        "outputId": "a33304ac-5fb7-4bf7-ce42-5ca4fbf5e490"
      },
      "outputs": [
        {
          "name": "stdout",
          "output_type": "stream",
          "text": [
            "Overall scores for (roberta-base):\n",
            "Count: 635.0\n",
            "LM Score: 57.014714133301744\n",
            "SS Score: 59.04494055060344\n",
            "ICAT Score: 46.70082013639446\n",
            "Loss: 0.29466014441806354\n",
            "Loading already existing results file...\n",
            "Saving results to results.json...\n"
          ]
        }
      ],
      "source": [
        "print(f'Overall scores for ({nsp_model.model_name}):')\n",
        "score_evaluator = ScoreEvaluator(\n",
        "    gold_file_path=INPUT_FILE, predictions=results)\n",
        "overall = score_evaluator.get_overall_results()\n",
        "score_evaluator.pretty_print(overall['overall'])\n",
        "\n",
        "if os.path.exists(RESULTS_FILE):\n",
        "    with open(RESULTS_FILE, \"r\") as f:\n",
        "        print(\"Loading already existing results file...\")\n",
        "        d = json.load(f)\n",
        "else:\n",
        "    d = {}\n",
        "\n",
        "#assuming that the file follows a format of {MODELNAME}_predictions.json\"\n",
        "predictions_filename = os.path.basename(output_file)\n",
        "if \"_predictions\" in predictions_filename:\n",
        "    pretrained_class = predictions_filename.split(\"_\")[0]\n",
        "    d[pretrained_class] = overall\n",
        "else:\n",
        "    d = overall\n",
        "\n",
        "print(f\"Saving results to {RESULTS_FILE}...\")\n",
        "with open(RESULTS_FILE, \"w+\") as f:\n",
        "    json.dump(d, f, indent=2)"
      ]
    },
    {
      "cell_type": "markdown",
      "metadata": {},
      "source": [
        "### Model Plots (before applying bias mitigation)"
      ]
    },
    {
      "cell_type": "code",
      "execution_count": 11,
      "metadata": {},
      "outputs": [],
      "source": [
        "bias_types = [\"gender\", \"profession\", \"race\", \"religion\"]\n",
        "metrics = [\"LM Score\", \"SS Score\", \"ICAT Score\"]\n",
        "\n",
        "def plot_score_records(intra_data, inter_data, model_name):\n",
        "    x = range(len(bias_types))\n",
        "    width = 0.35\n",
        "\n",
        "    #plot scores\n",
        "    fig, axs = plt.subplots(1, 3, figsize=(15, 5))\n",
        "    fig.suptitle(f\"Score per Task and Bias Type ({model_name})\")\n",
        "    for idx, metric in enumerate(metrics):\n",
        "        axs[idx].bar([i - width/2 for i in x], intra_data[metric], width, label=\"Intrasentence\")\n",
        "        axs[idx].bar([i + width/2 for i in x], inter_data[metric], width, label=\"Intersentence\")\n",
        "        axs[idx].set_xticks(x)\n",
        "        axs[idx].set_xticklabels([bias_type.capitalize() for bias_type in bias_types], rotation=45)\n",
        "        axs[idx].set_title(metric)\n",
        "        axs[idx].legend(title=\"Task\")\n",
        "        axs[idx].set_ylabel(\"Score\")\n",
        "\n",
        "    plt.tight_layout()\n",
        "    plt.show()\n",
        "    plt.clf()"
      ]
    },
    {
      "cell_type": "code",
      "execution_count": 12,
      "metadata": {},
      "outputs": [],
      "source": [
        "def plot_loss_scores(intra_loss, inter_loss, model_name):\n",
        "    x = range(len(bias_types))\n",
        "    width = 0.35\n",
        "\n",
        "    plt.figure(figsize=(8, 5))\n",
        "    plt.bar([i - width/2 for i in x], intra_loss, width, label=\"Intrasentence\")\n",
        "    plt.bar([i + width/2 for i in x], inter_loss, width, label=\"Intersentence\")\n",
        "    plt.xticks(x, [bias_type.capitalize() for bias_type in bias_types], rotation=45)\n",
        "    plt.ylabel(\"Loss\")\n",
        "    plt.title(f\"Loss per Task and Bias Type ({model_name})\")\n",
        "    plt.legend(title=\"Task\")\n",
        "    plt.tight_layout()\n",
        "    plt.show()\n",
        "    plt.clf()"
      ]
    },
    {
      "cell_type": "code",
      "execution_count": 13,
      "metadata": {},
      "outputs": [
        {
          "data": {
            "image/png": "[encoded data removed]",
            "text/plain": [
              "<Figure size 1500x500 with 3 Axes>"
            ]
          },
          "metadata": {},
          "output_type": "display_data"
        },
        {
          "data": {
            "text/plain": [
              "<Figure size 640x480 with 0 Axes>"
            ]
          },
          "metadata": {},
          "output_type": "display_data"
        }
      ],
      "source": [
        "intra = d[\"roberta-base\"][\"intrasentence\"]\n",
        "inter = d[\"roberta-base\"][\"intersentence\"]\n",
        "\n",
        "#visualize scores per bias target and task types\n",
        "intra_data = {metric: [intra[bias][metric] for bias in bias_types] for metric in metrics}\n",
        "inter_data = {metric: [inter[bias][metric] for bias in bias_types] for metric in metrics}\n",
        "\n",
        "plot_score_records(intra_data, inter_data, nsp_model.model_name)"
      ]
    },
    {
      "cell_type": "code",
      "execution_count": 14,
      "metadata": {
        "id": "fJ_y_18xVkgK",
        "outputId": "d40222f7-3fd2-4d53-882d-367a9e1dcb14"
      },
      "outputs": [
        {
          "data": {
            "image/png": "[encoded data removed]",
            "text/plain": [
              "<Figure size 800x500 with 1 Axes>"
            ]
          },
          "metadata": {},
          "output_type": "display_data"
        },
        {
          "data": {
            "text/plain": [
              "<Figure size 640x480 with 0 Axes>"
            ]
          },
          "metadata": {},
          "output_type": "display_data"
        }
      ],
      "source": [
        "#visualize loss per bias target and task types\n",
        "intra_loss = [intra[bias][\"Loss\"] for bias in bias_types]\n",
        "inter_loss = [inter[bias][\"Loss\"] for bias in bias_types]\n",
        "\n",
        "plot_loss_scores(intra_loss, inter_loss, nsp_model.model_name)"
      ]
    },
    {
      "cell_type": "markdown",
      "metadata": {},
      "source": [
        "### Bias Mitigation Strategy\n",
        "The main goal is to update the model's behavior to prefer anti-stereotypical associations over stereotypical ones. In our experiment we prefer using **adapter layer** over contrastive-learning.  Instead of directly modifying the base pre-trained model (which could lead to catastrophic forgetting of its general language skills), the adapter layer acts as a new, trainable \"sub-model\".  \n",
        "We train only the adapter layer to specifically learn the patterns present in our training dataset. So the core main model knowledge remains frozen, ensuring computational efficiency (lower number of trainable parameters w.r.t. the pre-trained ones) and model (maintaining the original knowledge of the base pre-trained model).\n",
        "\n",
        "#### LoRA (Low Ranked Adaptation)\n",
        "....."
      ]
    },
    {
      "cell_type": "markdown",
      "metadata": {},
      "source": [
        "### What about Constrative Learning?\n",
        "....."
      ]
    },
    {
      "cell_type": "markdown",
      "metadata": {},
      "source": [
        "### Training Adapted Models"
      ]
    },
    {
      "cell_type": "markdown",
      "metadata": {},
      "source": [
        "#### Adapted NSP Model"
      ]
    },
    {
      "cell_type": "code",
      "execution_count": 27,
      "metadata": {},
      "outputs": [
        {
          "name": "stderr",
          "output_type": "stream",
          "text": [
            "Some weights of RobertaForSequenceClassification were not initialized from the model checkpoint at roberta-base and are newly initialized: ['classifier.dense.bias', 'classifier.dense.weight', 'classifier.out_proj.bias', 'classifier.out_proj.weight']\n",
            "You should probably TRAIN this model on a down-stream task to be able to use it for predictions and inference.\n"
          ]
        },
        {
          "name": "stdout",
          "output_type": "stream",
          "text": [
            "Trainable parameters in the NSP adapted model:\n",
            "trainable params: 887,042 || all params: 125,534,212 || trainable%: 0.7066\n",
            "Loaded RobertaForSequenceClassification classification layer from saved_models/roberta-base_nsp_classification_layer.pt\n",
            "Can't load NSP adapter layer, need to trained it...\n"
          ]
        }
      ],
      "source": [
        "nsp_model = AdaptedNSPTransformer(model_name=pretrained_model_name, use_adapter=True)\n",
        "\n",
        "nsp_layer_file = f\"{pretrained_model_name}_{NSP_LAYER_FILE_SUFFIX}\"\n",
        "nsp_layer_path = os.path.join(SAVED_MODEL_DIR, nsp_layer_file)\n",
        "train_adapter_layer = False\n",
        "\n",
        "#load the NSP classification layer\n",
        "nsp_model.load_nsp_layer(target_path=nsp_layer_path)\n",
        "\n",
        "try:\n",
        "    nsp_model.load_adapter_layer(target_path=SAVED_NSP_ADAPTER_DIR)\n",
        "except:\n",
        "    print(\"Can't load NSP adapter layer, need to trained it...\")\n",
        "    train_adapter_layer = True"
      ]
    },
    {
      "cell_type": "code",
      "execution_count": null,
      "metadata": {},
      "outputs": [
        {
          "name": "stdout",
          "output_type": "stream",
          "text": [
            "Epoch 1/10\n"
          ]
        },
        {
          "name": "stderr",
          "output_type": "stream",
          "text": [
            "c:\\Users\\abudo\\source\\vscode_projects\\MindTheGap\\intersentence_loader.py:68: UserWarning: To copy construct from a tensor, it is recommended to use sourceTensor.detach().clone() or sourceTensor.detach().clone().requires_grad_(True), rather than torch.tensor(sourceTensor).\n",
            "  input_ids = torch.tensor(input_ids)\n",
            "c:\\Users\\abudo\\source\\vscode_projects\\MindTheGap\\intersentence_loader.py:70: UserWarning: To copy construct from a tensor, it is recommended to use sourceTensor.detach().clone() or sourceTensor.detach().clone().requires_grad_(True), rather than torch.tensor(sourceTensor).\n",
            "  attention_mask = torch.tensor(attention_mask)\n"
          ]
        },
        {
          "name": "stdout",
          "output_type": "stream",
          "text": [
            "Moving model to GPU...\n",
            "Underlying model moved to cuda.\n",
            "AdaptedNSPTransformer instance moved to GPU.\n",
            "Calculating intersentence predictions...\n"
          ]
        },
        {
          "name": "stderr",
          "output_type": "stream",
          "text": [
            "  0%|          | 0/192 [00:00<?, ?it/s]c:\\Users\\abudo\\source\\vscode_projects\\MindTheGap\\SentenceEvaluator.py:246: UserWarning: To copy construct from a tensor, it is recommended to use sourceTensor.detach().clone() or sourceTensor.detach().clone().requires_grad_(True), rather than torch.tensor(sourceTensor).\n",
            "  loss = self.loss_fn(torch.tensor(outputs[idx, 1].item()), torch.tensor(sentence_label[idx]))\n",
            "  2%|▏         | 3/192 [00:00<00:07, 25.30it/s]c:\\Users\\abudo\\source\\vscode_projects\\MindTheGap\\SentenceEvaluator.py:246: UserWarning: To copy construct from a tensor, it is recommended to use sourceTensor.detach().clone() or sourceTensor.detach().clone().requires_grad_(True), rather than torch.tensor(sourceTensor).\n",
            "  loss = self.loss_fn(torch.tensor(outputs[idx, 1].item()), torch.tensor(sentence_label[idx]))\n",
            "100%|██████████| 192/192 [00:07<00:00, 25.05it/s]\n",
            "\n"
          ]
        },
        {
          "name": "stdout",
          "output_type": "stream",
          "text": [
            "Training Loss: 0.16377265593773876, Validation Loss: 0.13357710850142487\n",
            "Epoch 2/10\n",
            "Moving model to GPU...\n",
            "Underlying model moved to cuda.\n",
            "AdaptedNSPTransformer instance moved to GPU.\n",
            "Calculating intersentence predictions...\n",
            "Moving model to GPU...\n",
            "Underlying model moved to cuda.\n",
            "AdaptedNSPTransformer instance moved to GPU.\n",
            "Calculating intersentence predictions...\n"
          ]
        },
        {
          "name": "stderr",
          "output_type": "stream",
          "text": [
            "100%|██████████| 192/192 [00:07<00:00, 24.92it/s]\n",
            "\n"
          ]
        },
        {
          "name": "stdout",
          "output_type": "stream",
          "text": [
            "Training Loss: 0.1348072986319723, Validation Loss: 0.1184674598671069\n",
            "Epoch 3/10\n",
            "Moving model to GPU...\n",
            "Underlying model moved to cuda.\n",
            "AdaptedNSPTransformer instance moved to GPU.\n",
            "Calculating intersentence predictions...\n",
            "Moving model to GPU...\n",
            "Underlying model moved to cuda.\n",
            "AdaptedNSPTransformer instance moved to GPU.\n",
            "Calculating intersentence predictions...\n"
          ]
        },
        {
          "name": "stderr",
          "output_type": "stream",
          "text": [
            "100%|██████████| 192/192 [00:07<00:00, 24.93it/s]\n",
            "\n"
          ]
        },
        {
          "name": "stdout",
          "output_type": "stream",
          "text": [
            "Training Loss: 0.12284549207956334, Validation Loss: 0.11072191766387349\n",
            "Epoch 4/10\n",
            "Moving model to GPU...\n",
            "Underlying model moved to cuda.\n",
            "AdaptedNSPTransformer instance moved to GPU.\n",
            "Calculating intersentence predictions...\n",
            "Moving model to GPU...\n",
            "Underlying model moved to cuda.\n",
            "AdaptedNSPTransformer instance moved to GPU.\n",
            "Calculating intersentence predictions...\n"
          ]
        },
        {
          "name": "stderr",
          "output_type": "stream",
          "text": [
            "100%|██████████| 192/192 [00:07<00:00, 25.02it/s]\n",
            "\n"
          ]
        },
        {
          "name": "stdout",
          "output_type": "stream",
          "text": [
            "Training Loss: 0.11648509718487615, Validation Loss: 0.10939598049630574\n",
            "Epoch 5/10\n",
            "Moving model to GPU...\n",
            "Underlying model moved to cuda.\n",
            "AdaptedNSPTransformer instance moved to GPU.\n",
            "Calculating intersentence predictions...\n",
            "Moving model to GPU...\n",
            "Underlying model moved to cuda.\n",
            "AdaptedNSPTransformer instance moved to GPU.\n",
            "Calculating intersentence predictions...\n"
          ]
        },
        {
          "name": "stderr",
          "output_type": "stream",
          "text": [
            "100%|██████████| 192/192 [00:07<00:00, 24.79it/s]\n",
            "\n"
          ]
        },
        {
          "name": "stdout",
          "output_type": "stream",
          "text": [
            "Training Loss: 0.11028100487253469, Validation Loss: 0.10651487765317127\n",
            "Epoch 6/10\n",
            "Moving model to GPU...\n",
            "Underlying model moved to cuda.\n",
            "AdaptedNSPTransformer instance moved to GPU.\n",
            "Calculating intersentence predictions...\n",
            "Moving model to GPU...\n",
            "Underlying model moved to cuda.\n",
            "AdaptedNSPTransformer instance moved to GPU.\n",
            "Calculating intersentence predictions...\n"
          ]
        },
        {
          "name": "stderr",
          "output_type": "stream",
          "text": [
            "100%|██████████| 192/192 [00:07<00:00, 24.59it/s]\n",
            "\n"
          ]
        },
        {
          "name": "stdout",
          "output_type": "stream",
          "text": [
            "Training Loss: 0.10547340199968752, Validation Loss: 0.10403267653182971\n",
            "Epoch 7/10\n",
            "Moving model to GPU...\n",
            "Underlying model moved to cuda.\n",
            "AdaptedNSPTransformer instance moved to GPU.\n",
            "Calculating intersentence predictions...\n",
            "Moving model to GPU...\n",
            "Underlying model moved to cuda.\n",
            "AdaptedNSPTransformer instance moved to GPU.\n",
            "Calculating intersentence predictions...\n"
          ]
        },
        {
          "name": "stderr",
          "output_type": "stream",
          "text": [
            "100%|██████████| 192/192 [00:07<00:00, 25.11it/s]\n",
            "\n"
          ]
        },
        {
          "name": "stdout",
          "output_type": "stream",
          "text": [
            "Training Loss: 0.10219362545890702, Validation Loss: 0.10497163910601283\n",
            "Epoch 8/10\n",
            "Moving model to GPU...\n",
            "Underlying model moved to cuda.\n",
            "AdaptedNSPTransformer instance moved to GPU.\n",
            "Calculating intersentence predictions...\n",
            "Moving model to GPU...\n",
            "Underlying model moved to cuda.\n",
            "AdaptedNSPTransformer instance moved to GPU.\n",
            "Calculating intersentence predictions...\n"
          ]
        },
        {
          "name": "stderr",
          "output_type": "stream",
          "text": [
            "100%|██████████| 192/192 [00:07<00:00, 25.03it/s]\n",
            "\n"
          ]
        },
        {
          "name": "stdout",
          "output_type": "stream",
          "text": [
            "Training Loss: 0.09964760098560556, Validation Loss: 0.1030660641200208\n",
            "Epoch 9/10\n",
            "Moving model to GPU...\n",
            "Underlying model moved to cuda.\n",
            "AdaptedNSPTransformer instance moved to GPU.\n",
            "Calculating intersentence predictions...\n",
            "Moving model to GPU...\n",
            "Underlying model moved to cuda.\n",
            "AdaptedNSPTransformer instance moved to GPU.\n",
            "Calculating intersentence predictions...\n"
          ]
        },
        {
          "name": "stderr",
          "output_type": "stream",
          "text": [
            "100%|██████████| 192/192 [00:07<00:00, 24.95it/s]\n",
            "\n"
          ]
        },
        {
          "name": "stdout",
          "output_type": "stream",
          "text": [
            "Training Loss: 0.09383317920536711, Validation Loss: 0.10150011755089527\n",
            "Epoch 10/10\n",
            "Moving model to GPU...\n",
            "Underlying model moved to cuda.\n",
            "AdaptedNSPTransformer instance moved to GPU.\n",
            "Calculating intersentence predictions...\n",
            "Moving model to GPU...\n",
            "Underlying model moved to cuda.\n",
            "AdaptedNSPTransformer instance moved to GPU.\n",
            "Calculating intersentence predictions...\n"
          ]
        },
        {
          "name": "stderr",
          "output_type": "stream",
          "text": [
            "100%|██████████| 192/192 [00:07<00:00, 24.88it/s]"
          ]
        },
        {
          "name": "stdout",
          "output_type": "stream",
          "text": [
            "Training Loss: 0.09039856432982502, Validation Loss: 0.10035660470384591\n"
          ]
        },
        {
          "name": "stderr",
          "output_type": "stream",
          "text": [
            "\n"
          ]
        }
      ],
      "source": [
        "optimizer = AdamW(nsp_model.adapted_model.parameters(), lr=LEARNING_RATE)\n",
        "lr_scheduler = get_scheduler(\n",
        "    \"linear\",\n",
        "    optimizer=optimizer,\n",
        "    num_warmup_steps=0,\n",
        "    num_training_steps=NUM_EPOCHS * len(evaluator.inter_train_dataset)) \n",
        "\n",
        "perfermace_records = defaultdict(list)\n",
        "if train_adapter_layer:\n",
        "    #Train adapter head for AutoModelForSequenceClassification\n",
        "    for epoch in range(NUM_EPOCHS):\n",
        "        print(f\"Epoch {epoch+1}/{NUM_EPOCHS}\")\n",
        "        train_loss = nsp_model.train_epoch(train_dataset=evaluator.inter_train_dataset,\n",
        "                                           optimizer=optimizer,\n",
        "                                           lr_scheduler=lr_scheduler,\n",
        "                                           loss_fn=nn.MSELoss,\n",
        "                                           batch_size=BATCH_SIZE, \n",
        "                                           device=evaluator.device)\n",
        "\n",
        "        #record training and validation loss\n",
        "        # train_results = evaluator.evaluate_intersentence(targetModel=nsp_model, use_train_set=True)\n",
        "        # train_loss = sum([train_result['loss'] for train_result in train_results]) / len(train_results)\n",
        "        val_results = evaluator.evaluate_intersentence(targetModel=nsp_model)\n",
        "        val_loss = sum([val_result['loss'] for val_result in val_results]) / len(val_results)\n",
        "        print(f\"Training Loss: {train_loss}, Validation Loss: {val_loss}\")\n",
        "        perfermace_records['train_loss'].append(train_loss)\n",
        "        perfermace_records['val_loss'].append(val_loss)"
      ]
    },
    {
      "cell_type": "code",
      "execution_count": 29,
      "metadata": {},
      "outputs": [
        {
          "name": "stdout",
          "output_type": "stream",
          "text": [
            "Saved RobertaForSequenceClassification adapter layer in saved_models/nsp_adapter/\n"
          ]
        }
      ],
      "source": [
        "#save adapter layer's weights\n",
        "if train_adapter_layer:\n",
        "    nsp_model.save_adapter_layer(target_path=SAVED_NSP_ADAPTER_DIR)"
      ]
    },
    {
      "cell_type": "code",
      "execution_count": 31,
      "metadata": {},
      "outputs": [
        {
          "data": {
            "image/png": "[encoded data removed]",
            "text/plain": [
              "<Figure size 1600x600 with 1 Axes>"
            ]
          },
          "metadata": {},
          "output_type": "display_data"
        }
      ],
      "source": [
        "if train_adapter_layer: #the NSP adapter layer has been trained\n",
        "    performance_plot(perfermace_records, ignore_icat_plot=True)"
      ]
    },
    {
      "cell_type": "markdown",
      "metadata": {},
      "source": [
        "#### Adapted MLM Model"
      ]
    },
    {
      "cell_type": "code",
      "execution_count": 33,
      "metadata": {},
      "outputs": [
        {
          "name": "stdout",
          "output_type": "stream",
          "text": [
            "Trainable parameters in the MLM adapted model:\n",
            "trainable params: 294,912 || all params: 124,992,345 || trainable%: 0.2359\n",
            "Can't load MLM adapter layer, need to trained it...\n"
          ]
        }
      ],
      "source": [
        "mlm_model = AdaptedMLMTransformer(model_name=pretrained_model_name, use_adapter=True)\n",
        "\n",
        "train_adapter_layer = False\n",
        "try:\n",
        "    mlm_model.load_adapter_layer(target_path=SAVED_MLM_ADAPTER_DIR)\n",
        "except:\n",
        "    print(\"Can't load MLM adapter layer, need to trained it...\")\n",
        "    train_adapter_layer = True"
      ]
    },
    {
      "cell_type": "code",
      "execution_count": 41,
      "metadata": {},
      "outputs": [
        {
          "name": "stdout",
          "output_type": "stream",
          "text": [
            "Epoch 1/10\n"
          ]
        },
        {
          "ename": "ValueError",
          "evalue": "too many values to unpack (expected 5)",
          "output_type": "error",
          "traceback": [
            "\u001b[31m---------------------------------------------------------------------------\u001b[39m",
            "\u001b[31mValueError\u001b[39m                                Traceback (most recent call last)",
            "\u001b[36mCell\u001b[39m\u001b[36m \u001b[39m\u001b[32mIn[41]\u001b[39m\u001b[32m, line 13\u001b[39m\n\u001b[32m     11\u001b[39m \u001b[38;5;28;01mfor\u001b[39;00m epoch \u001b[38;5;129;01min\u001b[39;00m \u001b[38;5;28mrange\u001b[39m(NUM_EPOCHS):\n\u001b[32m     12\u001b[39m     \u001b[38;5;28mprint\u001b[39m(\u001b[33mf\u001b[39m\u001b[33m\"\u001b[39m\u001b[33mEpoch \u001b[39m\u001b[38;5;132;01m{\u001b[39;00mepoch+\u001b[32m1\u001b[39m\u001b[38;5;132;01m}\u001b[39;00m\u001b[33m/\u001b[39m\u001b[38;5;132;01m{\u001b[39;00mNUM_EPOCHS\u001b[38;5;132;01m}\u001b[39;00m\u001b[33m\"\u001b[39m)\n\u001b[32m---> \u001b[39m\u001b[32m13\u001b[39m     train_loss = \u001b[43mmlm_model\u001b[49m\u001b[43m.\u001b[49m\u001b[43mtrain_epoch\u001b[49m\u001b[43m(\u001b[49m\u001b[43mtrain_dataset\u001b[49m\u001b[43m=\u001b[49m\u001b[43mevaluator\u001b[49m\u001b[43m.\u001b[49m\u001b[43mintra_train_dataset\u001b[49m\u001b[43m,\u001b[49m\n\u001b[32m     14\u001b[39m \u001b[43m                                       \u001b[49m\u001b[43moptimizer\u001b[49m\u001b[43m=\u001b[49m\u001b[43moptimizer\u001b[49m\u001b[43m,\u001b[49m\n\u001b[32m     15\u001b[39m \u001b[43m                                       \u001b[49m\u001b[43mlr_scheduler\u001b[49m\u001b[43m=\u001b[49m\u001b[43mlr_scheduler\u001b[49m\u001b[43m,\u001b[49m\n\u001b[32m     16\u001b[39m \u001b[43m                                       \u001b[49m\u001b[43mloss_fn\u001b[49m\u001b[43m=\u001b[49m\u001b[43mnn\u001b[49m\u001b[43m.\u001b[49m\u001b[43mMSELoss\u001b[49m\u001b[43m,\u001b[49m\n\u001b[32m     17\u001b[39m \u001b[43m                                       \u001b[49m\u001b[43mbatch_size\u001b[49m\u001b[43m=\u001b[49m\u001b[43mBATCH_SIZE\u001b[49m\u001b[43m,\u001b[49m\u001b[43m \u001b[49m\n\u001b[32m     18\u001b[39m \u001b[43m                                       \u001b[49m\u001b[43mdevice\u001b[49m\u001b[43m=\u001b[49m\u001b[43mevaluator\u001b[49m\u001b[43m.\u001b[49m\u001b[43mdevice\u001b[49m\u001b[43m)\u001b[49m\n\u001b[32m     20\u001b[39m     \u001b[38;5;66;03m#record training and validation loss\u001b[39;00m\n\u001b[32m     21\u001b[39m     train_results = evaluator.evaluate_intrasentence(targetModel=mlm_model, use_train_set=\u001b[38;5;28;01mTrue\u001b[39;00m)\n",
            "\u001b[36mFile \u001b[39m\u001b[32mc:\\Users\\abudo\\source\\vscode_projects\\MindTheGap\\AdaptedMLMTransformer.py:75\u001b[39m, in \u001b[36mAdaptedMLMTransformer.train_epoch\u001b[39m\u001b[34m(self, train_dataset, optimizer, lr_scheduler, loss_fn, batch_size, device)\u001b[39m\n\u001b[32m     71\u001b[39m \u001b[38;5;66;03m# for batch_num, batch in tqdm(train_loader, len(train_loader)):\u001b[39;00m\n\u001b[32m     72\u001b[39m \u001b[38;5;66;03m#     print(f\"Batch size: {len(batch[0])}\")\u001b[39;00m\n\u001b[32m     74\u001b[39m losses = []\n\u001b[32m---> \u001b[39m\u001b[32m75\u001b[39m \u001b[38;5;28;01mfor\u001b[39;00m input_ids, token_ids, attention_mask, sentence_ids, sentence_labels \u001b[38;5;129;01min\u001b[39;00m train_loader:\n\u001b[32m     76\u001b[39m     optimizer.zero_grad()\n\u001b[32m     78\u001b[39m     input_ids = input_ids.squeeze(\u001b[32m1\u001b[39m).to(device)\n",
            "\u001b[31mValueError\u001b[39m: too many values to unpack (expected 5)"
          ]
        }
      ],
      "source": [
        "optimizer = AdamW(mlm_model.adapted_model.parameters(), lr=LEARNING_RATE)\n",
        "lr_scheduler = get_scheduler(\n",
        "    \"linear\",\n",
        "    optimizer=optimizer,\n",
        "    num_warmup_steps=0,\n",
        "    num_training_steps=NUM_EPOCHS * len(evaluator.intra_train_dataset)) \n",
        "\n",
        "perfermace_records = defaultdict(list)\n",
        "if train_adapter_layer:\n",
        "    #Train adapter head for AutoModelForMaskedLM\n",
        "    for epoch in range(NUM_EPOCHS):\n",
        "        print(f\"Epoch {epoch+1}/{NUM_EPOCHS}\")\n",
        "        train_loss = mlm_model.train_epoch(train_dataset=evaluator.intra_train_dataset,\n",
        "                                           optimizer=optimizer,\n",
        "                                           lr_scheduler=lr_scheduler,\n",
        "                                           loss_fn=nn.MSELoss,\n",
        "                                           batch_size=BATCH_SIZE, \n",
        "                                           device=evaluator.device)\n",
        "\n",
        "        #record training and validation loss\n",
        "        train_results = evaluator.evaluate_intrasentence(targetModel=mlm_model, use_train_set=True)\n",
        "        #train_loss = sum([train_result['loss'] for train_result in train_results]) / len(train_results)\n",
        "        val_results = evaluator.evaluate_intrasentence(targetModel=mlm_model)\n",
        "        val_loss = sum([val_result['loss'] for val_result in val_results]) / len(val_results)\n",
        "        val_icat = sum([val_result['loss'] for val_result in val_results]) / len(val_results)\n",
        "        print(f\"Training Loss: {train_loss}, Validation Loss: {val_loss}\")\n",
        "        perfermace_records['train_loss'].append(train_loss)\n",
        "        perfermace_records['val_loss'].append(val_loss)\n",
        "        \n",
        "        score_evaluator = ScoreEvaluator(\n",
        "            gold_file_path=INPUT_FILE, predictions=train_results)\n",
        "        overall = score_evaluator.get_overall_results()\n",
        "\n",
        "        perfermace_records['train_icat'].append(overall['ICAT Score'])\n",
        "        perfermace_records['val_icat'].append(val_loss['ICAT Score'])"
      ]
    },
    {
      "cell_type": "code",
      "execution_count": null,
      "metadata": {},
      "outputs": [],
      "source": [
        "#save adapter layer's weights\n",
        "if train_adapter_layer:\n",
        "    mlm_model.save_adapter_layer(target_path=SAVED_MLM_ADAPTER_DIR)"
      ]
    },
    {
      "cell_type": "code",
      "execution_count": null,
      "metadata": {},
      "outputs": [],
      "source": [
        "if train_adapter_layer: #the MLM adapter layer has been trained\n",
        "    performance_plot(perfermace_records, ignore_icat_plot=False)"
      ]
    },
    {
      "cell_type": "markdown",
      "metadata": {},
      "source": [
        "### Calculate Test Set Predictions (after applying bias mitigation)\n",
        "Either for intersentences or intrasentences"
      ]
    },
    {
      "cell_type": "code",
      "execution_count": null,
      "metadata": {},
      "outputs": [],
      "source": [
        "results = evaluator.evaluate(intra_targetModel=mlm_model, inter_targetModel=nsp_model)\n",
        "#print(results)\n",
        "\n",
        "#save evaluation predictions\n",
        "output_file = f\"{nsp_model.model_name}_{OUTPUT_FILE_PRETRAINED}\"\n",
        "output_file = os.path.join(OUTPUT_DIR, output_file)\n",
        "with open(output_file, \"w+\") as f:\n",
        "    json.dump(results, f, indent=2)"
      ]
    },
    {
      "cell_type": "markdown",
      "metadata": {},
      "source": [
        "### Bias Evaluation of Adapted Pre-trained Model"
      ]
    },
    {
      "cell_type": "code",
      "execution_count": null,
      "metadata": {},
      "outputs": [],
      "source": [
        "print(f'Overall scores for ({nsp_model.model_name}):')\n",
        "score_evaluator = ScoreEvaluator(\n",
        "    gold_file_path=INPUT_FILE, predictions=results)\n",
        "overall = score_evaluator.get_overall_results()\n",
        "score_evaluator.pretty_print(overall['overall'])\n",
        "\n",
        "#load existing results of any model\n",
        "if os.path.exists(RESULTS_FILE):\n",
        "    with open(RESULTS_FILE, \"r\") as f:\n",
        "        print(\"Loading already existing results file...\")\n",
        "        d = json.load(f)\n",
        "else:\n",
        "    d = {}\n",
        "\n",
        "#assuming that the file follows a format of {MODELNAME}_predictions.json\"\n",
        "predictions_filename = os.path.basename(output_file)\n",
        "if \"_predictions\" in predictions_filename:\n",
        "    pretrained_class = predictions_filename.split(\"_\")[0]\n",
        "    d[pretrained_class] = overall\n",
        "else:\n",
        "    d = overall\n",
        "\n",
        "print(f\"Saving results to {RESULTS_FILE}...\")\n",
        "with open(RESULTS_FILE, \"w+\") as f:\n",
        "    json.dump(d, f, indent=2)"
      ]
    }
  ],
  "metadata": {
    "accelerator": "GPU",
    "colab": {
      "gpuType": "T4",
      "provenance": []
    },
    "kernelspec": {
      "display_name": "Python 3",
      "name": "python3"
    },
    "language_info": {
      "codemirror_mode": {
        "name": "ipython",
        "version": 3
      },
      "file_extension": ".py",
      "mimetype": "text/x-python",
      "name": "python",
      "nbconvert_exporter": "python",
      "pygments_lexer": "ipython3",
      "version": "3.13.7"
    }
  },
  "nbformat": 4,
  "nbformat_minor": 0
}
