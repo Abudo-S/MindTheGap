{
  "cells": [
    {
      "cell_type": "markdown",
      "metadata": {
        "id": "Emv880Hk4hAq"
      },
      "source": [
        "### Mind the gap\n",
        "\n",
        "This project aims to identify, measure, and mitigate social biases, such as gender, race, or profession-related stereotypes, in lightweight transformer models through hands-on fine-tuning and evaluation on targeted NLP tasks. More specifically, the project should implement a four-step methodology, defined as follows:\n",
        "\n",
        "1. Choose a lightweight pre-trained transformer model (e.g., DistilBERT, ALBERT, RoBERTa-base) suitable for local fine-tuning and evaluation.\n",
        "2. Evaluate the presence and extent of social bias (e.g., gender, racial, or occupational stereotypes) using dedicated benchmark datasets. Both quantitative metrics and qualitative outputs should be evaluated.\n",
        "3. Apply a bias mitigation technique, such as **fine-tuning on curated counter-stereotypical data**, integrating **adapter layers**, or employing **contrastive learning**, while keeping the solution computationally efficient and transparent.\n",
        "4. Re-assess the model using the same benchmark(s) to measure improvements. We should compare pre- and post-intervention results, discuss trade-offs (e.g., performance vs. fairness), and visualize the impact of their approach.\n",
        "\n",
        "#### Dataset\n",
        "- [StereoSet: Measuring stereotypical bias in pretrained language models](https://github.com/moinnadeem/StereoSet). Nadeem, M., Bethke, A., & Reddy, S. (2020). StereoSet: Measuring stereotypical bias in pretrained language models. *arXiv preprint arXiv:2004.09456*.\n",
        "- [StereoSet: Measuring stereotypical bias in pretrained language models](https://huggingface.co/datasets/McGill-NLP/stereoset). Hugging Face co.\n",
        "\n",
        "#### References\n",
        "- [StereoSet: Measuring stereotypical bias in pretrained language models](https://aclanthology.org/2021.acl-long.416/) 2021.acl-long.416."
      ]
    },
    {
      "cell_type": "code",
      "execution_count": 6,
      "metadata": {
        "colab": {
          "base_uri": "https://localhost:8080/"
        },
        "id": "0ZodFEpEh5vD",
        "outputId": "064cd7c3-b96a-4d83-bbb8-0afde63b4f06"
      },
      "outputs": [],
      "source": [
        "import pandas as pd\n",
        "import numpy as np\n",
        "from transformers import AutoConfig, AutoTokenizer\n",
        "from transformers import get_scheduler\n",
        "from torch.optim import AdamW\n",
        "import torch\n",
        "import torch.nn as nn\n",
        "import matplotlib.pyplot as plt\n",
        "from torch.utils.data import DataLoader, random_split\n",
        "from sklearn import preprocessing\n",
        "from sklearn.metrics import classification_report\n",
        "from collections import defaultdict\n",
        "from tqdm import tqdm\n",
        "import json\n",
        "#to output plots within the notebook\n",
        "%matplotlib inline\n",
        "\n",
        "import importlib\n",
        "import inspect\n",
        "import os\n",
        "import sys\n",
        "\n",
        "\n",
        "# %cd /content/\n",
        "# !ls -R\n",
        "# repo_name = \"MindTheGap\"\n",
        "# #!rm -rf {repo_name}\n",
        "# if not os.path.exists(repo_name):\n",
        "#     print(f\"Directory {repo_name} does not exist, proceeding with clone.\")\n",
        "#     !git clone https://github.com/Abudo-S/MindTheGap.git\n",
        "\n",
        "# %cd MindTheGap\n",
        "\n",
        "import AdaptedMLMTransformer as AdaptedMLMTransformer_Module\n",
        "import AdaptedNSPTransformer as AdaptedNSPTransformer_Module\n",
        "import intersentence_loader as intersentence_loader_Module\n",
        "import SentenceEvaluator as SentenceEvaluator_Module\n",
        "import ScoreEvaluator as ScoreEvaluator_Module\n",
        "import dataloader\n",
        "importlib.reload(AdaptedMLMTransformer_Module) # in case of updates\n",
        "importlib.reload(AdaptedNSPTransformer_Module) # in case of updates\n",
        "importlib.reload(intersentence_loader_Module) # in case of updates\n",
        "importlib.reload(SentenceEvaluator_Module) # in case of updates\n",
        "importlib.reload(ScoreEvaluator_Module) # in case of updates\n",
        "importlib.reload(dataloader) # in case of updates\n",
        "from AdaptedMLMTransformer import AdaptedMLMTransformer\n",
        "from AdaptedNSPTransformer import AdaptedNSPTransformer\n",
        "from intersentence_loader import IntersentenceDataset\n",
        "from SentenceEvaluator import SentenceEvaluator\n",
        "from ScoreEvaluator import ScoreEvaluator"
      ]
    },
    {
      "cell_type": "markdown",
      "metadata": {
        "id": "YoNBBQ5D4hAw"
      },
      "source": [
        "### General Observations:\n",
        "- The given dataset contains 2123 intersentence contexts and 2106 intrasentence contexts, each context has 3 sentences that are labeled as ```stereotype, anti-stereotype and unrelated``` with respect to the target bias type.\n",
        "- Intrasentences focus on biases at the word or sub-phrase level at position \"BLANK\". Meanwhile intersentences focus on biases within the relationship between the context and its associated sentences.\n"
      ]
    },
    {
      "cell_type": "markdown",
      "metadata": {
        "id": "N7B4AW564hAw"
      },
      "source": [
        "#### Tasks:\n",
        "- Intrasentences are considered as a masked-language-modeling (MLM) task in which the model is given a sentence where a certain percentage of the tokens have been replaced with a special [MASK] token. The model's task is to predict the original words/sub-words of the masked tokens based on the surrounding context.\n",
        "- Intersentences are considered as a next-sentence-prediction (NSP) task in which the model is given a pair of sentences, a (context) and (one of the associated sentences) formated as ```[SEP] sentence_A [SEP] sentence_B [SEP]``` or ```[CLS] sentence_A [SEP] sentence_B [SEP]```. Then the model outputs the probabilities that describe the relationship between both sentences into one of three categories:\n",
        "\n",
        "    * IsNext [1]: The second sentence is the actual next sentence in the original text corpus, following the first.\n",
        "\n",
        "    * NotNext [0]: The second sentence is unrelated to the first.\n",
        "\n",
        "The probability for the \"IsNext\" class indicates how confident the model is that the second sentence logically follows the first. In our case we can use the probability of \"IsNext\" to compare the conjunction between each associated labeled sentence with the main context."
      ]
    },
    {
      "cell_type": "markdown",
      "metadata": {
        "id": "S7sVvS2u6OY9"
      },
      "source": [
        "## Data Preprocessing\n",
        "- Intrasentences: The dataloader creates a sentence for each target token of the masked word/subword that replaces \"BLANK\" with respect to the target word, concatenating the original context.\n",
        "\n",
        "- Intersentences: The dataloader creates a combined special sentence, concatenating the context with each associated sentence singularly. The generated sentence depends on the used tokenizer, some tokenizers use [CLS] and [SEP], others use only [SEP]. So it's necessary to use a compatible tokenzier with the pre-trained model.\n"
      ]
    },
    {
      "cell_type": "markdown",
      "metadata": {
        "id": "x_Iy4WvhX4fh"
      },
      "source": [
        "## Context's Sentences Evaluation\n",
        "- Intrasentences: The MLM model should predict the masked token in each sentence, calculating per each context the mean score of target tokens w.r.t. model's vocabulary. So our task isn't retrieving the highest score belonging to a random predicted word, but retrieving the score of our target word's tokens. Later the score belonging to each sentence is compared to the scores of other sentences belonging to the same context, in order to determine model's preference w.r.t. the target bias.\n",
        "\n",
        "- Intersentences: The NSP model should predict whether the second sentence can be the actual next sentence in the original text or not. So our task is to retrieve the score that describes the probability of the second sentence to follow the first sentence.\n",
        "\n"
      ]
    },
    {
      "cell_type": "markdown",
      "metadata": {
        "id": "hLz7DbetX_61"
      },
      "source": [
        "\n",
        "## Loss Calculation\n",
        "Applying Mean Squared Error (MSE) loss with the following target labels in case of different tasks.\n",
        "$$MSE = \\frac{1}{N}\\sum_{i=1}^{N}(y_i - \\hat{y}_i)^2$$\n",
        "\n",
        "- Intrasentences: The loss is calculated by taking average loss between the output tokens' probabilities and different token-score thresholds based on sentence's label:  \n",
        "    * Stereotyped sentences: the minmum value of the softMax function (theoretically 0 but since the softmax never outputs zero in practical evaluation, so we decided to set a very small threshold = **1e-5** for stereotyped sentences).\n",
        "    * Anti-stereotyped sentences: the maximum value of the softMax function (theoretically 1 but since the softmax never outputs 1 in practical evaluation, so we decided to set a very small threshold =  **0.999** for anti-stereotyped sentences).\n",
        "    * Unrelated sentences: w'd consider a threshold = **0.50** for neutral/unrelated sentences since they less relevant to the main context.\n",
        "\n",
        "- Intersentences: The loss is calculated by comparing the predict score of the second sentence (nextScore) and the pre-determined thresholds based on sentence's labels:  \n",
        "    * Stereotyped sentences: Since we'd like to reduce the prediction scores of stereotyped sentences (sentences labeled as \"stereotype\"); we can label them with **1e-5** (Not 0 for the same reason in the case of intrasentences), so when the model gives a reasonable score for a stereotyped sentence as a next sentence (nextScore > 0), we still need to **minimize** that score through an optimization process.\n",
        "    * Anti-stereotyped sentences: viceversa for anti-stereotyped sentences; we can label them with **0.999** (Not 1 for the same reason in the case of intrasentences), so when the model gives a reasonable score for an anti-stereotyped sentence as a next sentence (nextScore < 1), we still need to **maximize** that score through an optimization procedure.  \n",
        "    * Unrelated sentences: Meanwhile for unrelated sentences; we can label them with **0.50**, so if the model gives a a reasonable score for an unrelated sentence as a next sentence (nextScore > 0.50), we'd need to minimize the score w.r.t. the threshold of neutral/unrelated sentences (nextScore = 0.50).\n",
        "\n"
      ]
    },
    {
      "cell_type": "markdown",
      "metadata": {
        "id": "rfT4tQn61ePM"
      },
      "source": [
        "### Data Split and Model Comparability\n",
        "--todo--  \n",
        "- Since the NSP is not supported in different variations of BERT like (DistilBERT, ALBERT, RoBERTa-base) that are automatically loaded using `AutoModelForSequenceClassification`, the classification head is generated with random weights. In other words, these weights need to adjusted for our downstream task. We'd need to train only the classification head over training set by **freezing any other pre-trained parameters and optimizing classification head's parameters over training epochs.**  \n",
        "Stereoset dataset is split into training and test subsets, respectivelly with 85% and 15% of the orginal dataset (intersentences and intrasentences).\n",
        "- explain test data on pre-trained model (loss and SS evaluation in MLM and NSP) with bar plots.\n",
        "- explain training data on fine-tuned adapted model (loss and SS evaluation over epochs in MLM and NSP) with curve plots. (freeze pre-trained params including those belonging NSP head).\n",
        "- add explainability for bad scores either in case of pre-trained or fine-tuned models."
      ]
    },
    {
      "cell_type": "code",
      "execution_count": 7,
      "metadata": {
        "id": "pLn3HuBpdezQ"
      },
      "outputs": [],
      "source": [
        "# original_init = AdaptedMLMTransformer_Module.AdaptedMLMTransformer.__init__\n",
        "\n",
        "# # Corrected debug_init signature - assuming only model_name is a required parameter\n",
        "# def debug_init(self, model_name=\"roberta-base\"):\n",
        "#     print(f\"Initializing AdaptedMLMTransformer with model_name: {model_name}\")\n",
        "#     # Pass only the parameters that original_init expects\n",
        "#     original_init(self, model_name=model_name)\n",
        "#     print(\"AdaptedMLMTransformer initialized.\")\n",
        "#     for name, param in self.named_parameters():\n",
        "#         print(f\"Layer: {name}, Device: {param.device}, Dtype: {param.dtype}\")\n",
        "\n",
        "# AdaptedMLMTransformer_Module.AdaptedMLMTransformer.__init__ = debug_init"
      ]
    },
    {
      "cell_type": "code",
      "execution_count": 8,
      "metadata": {
        "id": "AoCm0rcTxhIj"
      },
      "outputs": [],
      "source": [
        "# os.environ['CUDA_LAUNCH_BLOCKING'] = '1'\n",
        "# os.environ['TORCH_USE_CUDA_DSA'] = '0'\n",
        "INPUT_FILE = \"data/stereo_dataset.json\"\n",
        "#INPUT_FILE = \"/content/MindTheGap/data/stereo_dataset.json\"\n",
        "OUTPUT_FILE_PRETRAINED =\"predictions.json\"\n",
        "OUTPUT_FILE_FINETUNED =\"predictions.json\"\n",
        "RESULTS_FILE = \"results.json\"\n",
        "OUTPUT_DIR = \"predictions/\"\n",
        "SAVED_MODEL_DIR = \"saved_models/\"\n",
        "SAVED_MLM_ADAPTER_DIR = os.path.join(SAVED_MODEL_DIR, \"mlm_adapter/\")\n",
        "SAVED_NSP_ADAPTER_DIR = os.path.join(SAVED_MODEL_DIR, \"nsp_adapter/\")\n",
        "NSP_LAYER_FILE_SUFFIX = \"nsp_classification_layer.pt\"\n",
        "BATCH_SIZE = 5\n",
        "MAX_SEQ_LENGTH = 128\n",
        "TRAINING_SET_SIZE_PERCENT = 0.85\n",
        "NUM_EPOCHS = 10\n",
        "LEARNING_RATE = 5e-5 #0.00005"
      ]
    },
    {
      "cell_type": "markdown",
      "metadata": {
        "id": "-NoVa-VtxhIk"
      },
      "source": [
        "### Train NSP Classification Layer for Intersentences"
      ]
    },
    {
      "cell_type": "code",
      "execution_count": 9,
      "metadata": {
        "id": "KfeMTsTUxhIk",
        "outputId": "3860ad58-3f49-4834-c99f-93b471578f07"
      },
      "outputs": [
        {
          "name": "stderr",
          "output_type": "stream",
          "text": [
            "Some weights of RobertaForSequenceClassification were not initialized from the model checkpoint at roberta-base and are newly initialized: ['classifier.dense.bias', 'classifier.dense.weight', 'classifier.out_proj.bias', 'classifier.out_proj.weight']\n",
            "You should probably TRAIN this model on a down-stream task to be able to use it for predictions and inference.\n"
          ]
        }
      ],
      "source": [
        "pretrained_model_name=\"roberta-base\"\n",
        "nsp_model = AdaptedNSPTransformer(model_name=pretrained_model_name)\n",
        "\n",
        "nsp_layer_file = f\"{nsp_model.model_name}_{NSP_LAYER_FILE_SUFFIX}\"\n",
        "nsp_layer_path = os.path.join(SAVED_MODEL_DIR, nsp_layer_file)\n",
        "train_nsp_layer = False\n",
        "\n",
        "#try to load the NSP classification layer if it exists\n",
        "try:\n",
        "    nsp_model.load_nsp_layer(target_path=nsp_layer_path)\n",
        "except AssertionError as e:\n",
        "    train_nsp_layer = True"
      ]
    },
    {
      "cell_type": "code",
      "execution_count": 10,
      "metadata": {
        "id": "VIy44wAYxhIl",
        "outputId": "9e2243cd-d52c-4ed6-a07c-68d829fb92bc"
      },
      "outputs": [
        {
          "name": "stdout",
          "output_type": "stream",
          "text": [
            "Loading data/stereo_dataset.json...\n",
            "Model max position embeddings: 514\n",
            "Using device: cuda\n",
            "Using pretrained class: roberta-base\n",
            "First element of the [intrasentences] training set: ('e37e1426150a747dfae213cbe78a77e7', 212, tensor([[    0,  3684,    82,  1134,   217,   167,    31,  5490,    33, 50264,\n",
            "             2,     1,     1,     1,     1,     1,     1,     1,     1,     1,\n",
            "             1,     1,     1,     1,     1,     1,     1,     1,     1,     1,\n",
            "             1,     1,     1,     1,     1,     1,     1,     1,     1,     1,\n",
            "             1,     1,     1,     1,     1,     1,     1,     1,     1,     1,\n",
            "             1,     1,     1,     1,     1,     1,     1,     1,     1,     1,\n",
            "             1,     1,     1,     1,     1,     1,     1,     1,     1,     1,\n",
            "             1,     1,     1,     1,     1,     1,     1,     1,     1,     1,\n",
            "             1,     1,     1,     1,     1,     1,     1,     1,     1,     1,\n",
            "             1,     1,     1,     1,     1,     1,     1,     1,     1,     1,\n",
            "             1,     1,     1,     1,     1,     1,     1,     1,     1,     1,\n",
            "             1,     1,     1,     1,     1,     1,     1,     1,     1,     1,\n",
            "             1,     1,     1,     1,     1,     1,     1,     1]]), tensor([[1, 1, 1, 1, 1, 1, 1, 1, 1, 1, 1, 0, 0, 0, 0, 0, 0, 0, 0, 0, 0, 0, 0, 0,\n",
            "         0, 0, 0, 0, 0, 0, 0, 0, 0, 0, 0, 0, 0, 0, 0, 0, 0, 0, 0, 0, 0, 0, 0, 0,\n",
            "         0, 0, 0, 0, 0, 0, 0, 0, 0, 0, 0, 0, 0, 0, 0, 0, 0, 0, 0, 0, 0, 0, 0, 0,\n",
            "         0, 0, 0, 0, 0, 0, 0, 0, 0, 0, 0, 0, 0, 0, 0, 0, 0, 0, 0, 0, 0, 0, 0, 0,\n",
            "         0, 0, 0, 0, 0, 0, 0, 0, 0, 0, 0, 0, 0, 0, 0, 0, 0, 0, 0, 0, 0, 0, 0, 0,\n",
            "         0, 0, 0, 0, 0, 0, 0, 0]]), [], 0.5)\n",
            "First element of the [intrasentances] test set: ('8af17904f8a93833bc89616ead6b9fed', 26414, tensor([[    0,   133,    82,    31, 13934,    32, 50264,     2,     1,     1,\n",
            "             1,     1,     1,     1,     1,     1,     1,     1,     1,     1,\n",
            "             1,     1,     1,     1,     1,     1,     1,     1,     1,     1,\n",
            "             1,     1,     1,     1,     1,     1,     1,     1,     1,     1,\n",
            "             1,     1,     1,     1,     1,     1,     1,     1,     1,     1,\n",
            "             1,     1,     1,     1,     1,     1,     1,     1,     1,     1,\n",
            "             1,     1,     1,     1,     1,     1,     1,     1,     1,     1,\n",
            "             1,     1,     1,     1,     1,     1,     1,     1,     1,     1,\n",
            "             1,     1,     1,     1,     1,     1,     1,     1,     1,     1,\n",
            "             1,     1,     1,     1,     1,     1,     1,     1,     1,     1,\n",
            "             1,     1,     1,     1,     1,     1,     1,     1,     1,     1,\n",
            "             1,     1,     1,     1,     1,     1,     1,     1,     1,     1,\n",
            "             1,     1,     1,     1,     1,     1,     1,     1]]), tensor([[1, 1, 1, 1, 1, 1, 1, 1, 0, 0, 0, 0, 0, 0, 0, 0, 0, 0, 0, 0, 0, 0, 0, 0,\n",
            "         0, 0, 0, 0, 0, 0, 0, 0, 0, 0, 0, 0, 0, 0, 0, 0, 0, 0, 0, 0, 0, 0, 0, 0,\n",
            "         0, 0, 0, 0, 0, 0, 0, 0, 0, 0, 0, 0, 0, 0, 0, 0, 0, 0, 0, 0, 0, 0, 0, 0,\n",
            "         0, 0, 0, 0, 0, 0, 0, 0, 0, 0, 0, 0, 0, 0, 0, 0, 0, 0, 0, 0, 0, 0, 0, 0,\n",
            "         0, 0, 0, 0, 0, 0, 0, 0, 0, 0, 0, 0, 0, 0, 0, 0, 0, 0, 0, 0, 0, 0, 0, 0,\n",
            "         0, 0, 0, 0, 0, 0, 0, 0]]), [], 0.5)\n",
            "Maximum sequence length found: -inf\n",
            "Maximum sequence length found: -inf\n",
            "First element of the [intersentences] training set: (tensor([[    0,   133, 11005,    21,    11,     5,  3588,   254, 31807,     4,\n",
            "             2,     2,   713,    16,    10,  3458,  2788,    14,    16,   455,\n",
            "             9,  3099,     8,  1337, 29500,     4,     2,     1,     1,     1,\n",
            "             1,     1,     1,     1,     1,     1,     1,     1,     1,     1,\n",
            "             1,     1,     1,     1,     1,     1,     1,     1,     1,     1,\n",
            "             1,     1,     1,     1,     1,     1,     1,     1,     1,     1,\n",
            "             1,     1,     1,     1,     1,     1,     1,     1,     1,     1,\n",
            "             1,     1,     1,     1,     1,     1,     1,     1,     1,     1,\n",
            "             1,     1,     1,     1,     1,     1,     1,     1,     1,     1,\n",
            "             1,     1,     1,     1,     1,     1,     1,     1,     1,     1,\n",
            "             1,     1,     1,     1,     1,     1,     1,     1,     1,     1,\n",
            "             1,     1,     1,     1,     1,     1,     1,     1,     1,     1,\n",
            "             1,     1,     1,     1,     1,     1,     1,     1]]), tensor([]), tensor([[1, 1, 1, 1, 1, 1, 1, 1, 1, 1, 1, 1, 1, 1, 1, 1, 1, 1, 1, 1, 1, 1, 1, 1,\n",
            "         1, 1, 1, 0, 0, 0, 0, 0, 0, 0, 0, 0, 0, 0, 0, 0, 0, 0, 0, 0, 0, 0, 0, 0,\n",
            "         0, 0, 0, 0, 0, 0, 0, 0, 0, 0, 0, 0, 0, 0, 0, 0, 0, 0, 0, 0, 0, 0, 0, 0,\n",
            "         0, 0, 0, 0, 0, 0, 0, 0, 0, 0, 0, 0, 0, 0, 0, 0, 0, 0, 0, 0, 0, 0, 0, 0,\n",
            "         0, 0, 0, 0, 0, 0, 0, 0, 0, 0, 0, 0, 0, 0, 0, 0, 0, 0, 0, 0, 0, 0, 0, 0,\n",
            "         0, 0, 0, 0, 0, 0, 0, 0]]), '3f60aff450f553039edde28c398ad38c', 0.5)\n",
            "First element of the [intersentances] test set: (tensor([[    0,   133, 10642, 11034,   300,    66,     9,    39,  2418,     4,\n",
            "             2,     2,  1708,     5,   313,  2773, 13136,    39, 10485,    18,\n",
            "             8, 13763,    66,     9,     5,  3428, 26983,    19,  5136,   137,\n",
            "         27373, 11303,   159,     5,  6485,     4,     2,     1,     1,     1,\n",
            "             1,     1,     1,     1,     1,     1,     1,     1,     1,     1,\n",
            "             1,     1,     1,     1,     1,     1,     1,     1,     1,     1,\n",
            "             1,     1,     1,     1,     1,     1,     1,     1,     1,     1,\n",
            "             1,     1,     1,     1,     1,     1,     1,     1,     1,     1,\n",
            "             1,     1,     1,     1,     1,     1,     1,     1,     1,     1,\n",
            "             1,     1,     1,     1,     1,     1,     1,     1,     1,     1,\n",
            "             1,     1,     1,     1,     1,     1,     1,     1,     1,     1,\n",
            "             1,     1,     1,     1,     1,     1,     1,     1,     1,     1,\n",
            "             1,     1,     1,     1,     1,     1,     1,     1]]), tensor([]), tensor([[1, 1, 1, 1, 1, 1, 1, 1, 1, 1, 1, 1, 1, 1, 1, 1, 1, 1, 1, 1, 1, 1, 1, 1,\n",
            "         1, 1, 1, 1, 1, 1, 1, 1, 1, 1, 1, 1, 1, 0, 0, 0, 0, 0, 0, 0, 0, 0, 0, 0,\n",
            "         0, 0, 0, 0, 0, 0, 0, 0, 0, 0, 0, 0, 0, 0, 0, 0, 0, 0, 0, 0, 0, 0, 0, 0,\n",
            "         0, 0, 0, 0, 0, 0, 0, 0, 0, 0, 0, 0, 0, 0, 0, 0, 0, 0, 0, 0, 0, 0, 0, 0,\n",
            "         0, 0, 0, 0, 0, 0, 0, 0, 0, 0, 0, 0, 0, 0, 0, 0, 0, 0, 0, 0, 0, 0, 0, 0,\n",
            "         0, 0, 0, 0, 0, 0, 0, 0]]), '4c7423534e5008bca9c38c8e2cebdd61', 0.5)\n",
            "Epoch 1/10\n"
          ]
        },
        {
          "name": "stderr",
          "output_type": "stream",
          "text": [
            "c:\\Users\\abudo\\source\\vscode_projects\\MindTheGap\\intersentence_loader.py:70: UserWarning: To copy construct from a tensor, it is recommended to use sourceTensor.detach().clone() or sourceTensor.detach().clone().requires_grad_(True), rather than torch.tensor(sourceTensor).\n",
            "  input_ids = torch.tensor(input_ids)\n",
            "c:\\Users\\abudo\\source\\vscode_projects\\MindTheGap\\intersentence_loader.py:72: UserWarning: To copy construct from a tensor, it is recommended to use sourceTensor.detach().clone() or sourceTensor.detach().clone().requires_grad_(True), rather than torch.tensor(sourceTensor).\n",
            "  attention_mask = torch.tensor(attention_mask)\n"
          ]
        },
        {
          "name": "stdout",
          "output_type": "stream",
          "text": [
            "Moving model to GPU...\n",
            "Underlying model moved to cuda.\n",
            "AdaptedNSPTransformer instance moved to GPU.\n",
            "Calculating intersentence predictions...\n"
          ]
        },
        {
          "name": "stderr",
          "output_type": "stream",
          "text": [
            "  0%|          | 0/192 [00:00<?, ?it/s]c:\\Users\\abudo\\source\\vscode_projects\\MindTheGap\\SentenceEvaluator.py:246: UserWarning: To copy construct from a tensor, it is recommended to use sourceTensor.detach().clone() or sourceTensor.detach().clone().requires_grad_(True), rather than torch.tensor(sourceTensor).\n",
            "  loss = self.loss_fn(torch.tensor(outputs[idx, 1].item()), torch.tensor(sentence_label[idx]))\n",
            "100%|██████████| 192/192 [00:12<00:00, 15.20it/s]\n"
          ]
        },
        {
          "name": "stdout",
          "output_type": "stream",
          "text": [
            "Training Loss: 0.0549625286132455, Validation Loss: 0.04998850483630545\n",
            "Epoch 2/10\n",
            "Moving model to GPU...\n",
            "Underlying model moved to cuda.\n",
            "AdaptedNSPTransformer instance moved to GPU.\n",
            "Calculating intersentence predictions...\n"
          ]
        },
        {
          "name": "stderr",
          "output_type": "stream",
          "text": [
            "100%|██████████| 192/192 [00:12<00:00, 15.21it/s]\n"
          ]
        },
        {
          "name": "stdout",
          "output_type": "stream",
          "text": [
            "Training Loss: 0.04912158742586593, Validation Loss: 0.04540711215296733\n",
            "Epoch 3/10\n",
            "Moving model to GPU...\n",
            "Underlying model moved to cuda.\n",
            "AdaptedNSPTransformer instance moved to GPU.\n",
            "Calculating intersentence predictions...\n"
          ]
        },
        {
          "name": "stderr",
          "output_type": "stream",
          "text": [
            "100%|██████████| 192/192 [00:12<00:00, 15.03it/s]\n"
          ]
        },
        {
          "name": "stdout",
          "output_type": "stream",
          "text": [
            "Training Loss: 0.044597811328758, Validation Loss: 0.04020763102919646\n",
            "Epoch 4/10\n",
            "Moving model to GPU...\n",
            "Underlying model moved to cuda.\n",
            "AdaptedNSPTransformer instance moved to GPU.\n",
            "Calculating intersentence predictions...\n"
          ]
        },
        {
          "name": "stderr",
          "output_type": "stream",
          "text": [
            "100%|██████████| 192/192 [00:12<00:00, 15.13it/s]\n"
          ]
        },
        {
          "name": "stdout",
          "output_type": "stream",
          "text": [
            "Training Loss: 0.04210311999554821, Validation Loss: 0.03864808278626075\n",
            "Epoch 5/10\n",
            "Moving model to GPU...\n",
            "Underlying model moved to cuda.\n",
            "AdaptedNSPTransformer instance moved to GPU.\n",
            "Calculating intersentence predictions...\n"
          ]
        },
        {
          "name": "stderr",
          "output_type": "stream",
          "text": [
            "100%|██████████| 192/192 [00:12<00:00, 15.04it/s]\n"
          ]
        },
        {
          "name": "stdout",
          "output_type": "stream",
          "text": [
            "Training Loss: 0.04018399269373388, Validation Loss: 0.03451686395375106\n",
            "Epoch 6/10\n",
            "Moving model to GPU...\n",
            "Underlying model moved to cuda.\n",
            "AdaptedNSPTransformer instance moved to GPU.\n",
            "Calculating intersentence predictions...\n"
          ]
        },
        {
          "name": "stderr",
          "output_type": "stream",
          "text": [
            "100%|██████████| 192/192 [00:12<00:00, 15.08it/s]\n"
          ]
        },
        {
          "name": "stdout",
          "output_type": "stream",
          "text": [
            "Training Loss: 0.03976820122849606, Validation Loss: 0.033304779875979566\n",
            "Epoch 7/10\n",
            "Moving model to GPU...\n",
            "Underlying model moved to cuda.\n",
            "AdaptedNSPTransformer instance moved to GPU.\n",
            "Calculating intersentence predictions...\n"
          ]
        },
        {
          "name": "stderr",
          "output_type": "stream",
          "text": [
            "100%|██████████| 192/192 [00:12<00:00, 15.10it/s]\n"
          ]
        },
        {
          "name": "stdout",
          "output_type": "stream",
          "text": [
            "Training Loss: 0.03876172618777943, Validation Loss: 0.0340268606050311\n",
            "Epoch 8/10\n",
            "Moving model to GPU...\n",
            "Underlying model moved to cuda.\n",
            "AdaptedNSPTransformer instance moved to GPU.\n",
            "Calculating intersentence predictions...\n"
          ]
        },
        {
          "name": "stderr",
          "output_type": "stream",
          "text": [
            "100%|██████████| 192/192 [00:12<00:00, 15.10it/s]\n"
          ]
        },
        {
          "name": "stdout",
          "output_type": "stream",
          "text": [
            "Training Loss: 0.03741526855114978, Validation Loss: 0.031746291735618576\n",
            "Epoch 9/10\n",
            "Moving model to GPU...\n",
            "Underlying model moved to cuda.\n",
            "AdaptedNSPTransformer instance moved to GPU.\n",
            "Calculating intersentence predictions...\n"
          ]
        },
        {
          "name": "stderr",
          "output_type": "stream",
          "text": [
            "100%|██████████| 192/192 [00:12<00:00, 15.15it/s]\n"
          ]
        },
        {
          "name": "stdout",
          "output_type": "stream",
          "text": [
            "Training Loss: 0.03735713122261212, Validation Loss: 0.031136258227172493\n",
            "Epoch 10/10\n",
            "Moving model to GPU...\n",
            "Underlying model moved to cuda.\n",
            "AdaptedNSPTransformer instance moved to GPU.\n",
            "Calculating intersentence predictions...\n"
          ]
        },
        {
          "name": "stderr",
          "output_type": "stream",
          "text": [
            "100%|██████████| 192/192 [00:12<00:00, 15.06it/s]"
          ]
        },
        {
          "name": "stdout",
          "output_type": "stream",
          "text": [
            "Training Loss: 0.037068424331254755, Validation Loss: 0.03008771334781898\n"
          ]
        },
        {
          "name": "stderr",
          "output_type": "stream",
          "text": [
            "\n"
          ]
        }
      ],
      "source": [
        "#train_nsp_layer = True\n",
        "evaluator = SentenceEvaluator(input_file=INPUT_FILE, model_name=pretrained_model_name, batch_size=BATCH_SIZE)\n",
        "\n",
        "optimizer = AdamW(nsp_model.model.parameters(), lr=LEARNING_RATE)\n",
        "lr_scheduler = get_scheduler(\n",
        "    \"linear\",\n",
        "    optimizer=optimizer,\n",
        "    num_warmup_steps=0,\n",
        "    num_training_steps=NUM_EPOCHS * len(evaluator.inter_train_dataset)) \n",
        "\n",
        "perfermace_records = defaultdict(list)\n",
        "if train_nsp_layer:\n",
        "    #Train NSP head of AutoModelForSequenceClassification\n",
        "    for epoch in range(NUM_EPOCHS):\n",
        "        print(f\"Epoch {epoch+1}/{NUM_EPOCHS}\")\n",
        "        train_loss = nsp_model.train_epoch(train_dataset=evaluator.inter_train_dataset,\n",
        "                                           optimizer=optimizer,\n",
        "                                           lr_scheduler=lr_scheduler,\n",
        "                                           loss_fn=nn.MSELoss,\n",
        "                                           batch_size=BATCH_SIZE, \n",
        "                                           device=evaluator.device)\n",
        "\n",
        "        #record training and validation loss\n",
        "        # train_results = evaluator.evaluate_intersentence(targetModel=nsp_model, useTrainingSet=True)\n",
        "        # train_loss = sum([train_result['loss'] for train_result in train_results]) / len(train_results)\n",
        "        val_results = evaluator.evaluate_intersentence(targetModel=nsp_model)\n",
        "        val_loss = sum([val_result['loss'] for val_result in val_results]) / len(val_results)\n",
        "        print(f\"Training Loss: {train_loss}, Validation Loss: {val_loss}\")\n",
        "        perfermace_records['train_loss'].append(train_loss)\n",
        "        perfermace_records['val_loss'].append(val_loss)"
      ]
    },
    {
      "cell_type": "code",
      "execution_count": 11,
      "metadata": {
        "id": "vLzxunKZxhIm",
        "outputId": "f0e4238d-0863-4685-b65a-908732ad31e6"
      },
      "outputs": [
        {
          "name": "stdout",
          "output_type": "stream",
          "text": [
            "Saved RobertaForSequenceClassification classification layer in saved_models/roberta-base_nsp_classification_layer.pt\n"
          ]
        }
      ],
      "source": [
        "#save NSP classification layer's weights\n",
        "if train_nsp_layer:\n",
        "    nsp_model.save_nsp_layer(target_path=nsp_layer_path)"
      ]
    },
    {
      "cell_type": "markdown",
      "metadata": {},
      "source": [
        "### Loss plot (after NSP classification head training)"
      ]
    },
    {
      "cell_type": "code",
      "execution_count": 12,
      "metadata": {
        "id": "_r2iTNc6xhIm"
      },
      "outputs": [],
      "source": [
        "'''\n",
        "model_evaluation should contain loss, val_loss, icat, val_icat\n",
        "'''\n",
        "def performance_plot(model_evaluation:dict, ignore_icat_plot=False):\n",
        "    plt.figure(figsize=(16, 6))\n",
        "\n",
        "    if not ignore_icat_plot:\n",
        "        plt.subplot(1, 2, 1)\n",
        "\n",
        "    #plot loss\n",
        "    plt.plot(model_evaluation['train_loss'])\n",
        "    plt.plot(model_evaluation['val_loss'])\n",
        "    plt.ylabel('Loss', size=12)\n",
        "    plt.xlabel('Epoch', size=12)\n",
        "    plt.legend(['training', 'validation'])\n",
        "\n",
        "    #plot icat score\n",
        "    if not ignore_icat_plot:\n",
        "        plt.subplot(1, 2, 2)\n",
        "        plt.plot(model_evaluation['train_icat'])\n",
        "        plt.plot(model_evaluation['val_icat'])\n",
        "        plt.ylabel('ICAT', size=12)\n",
        "        plt.xlabel('Epoch', size=12)\n",
        "        plt.legend(['training', 'validation'])\n",
        "\n",
        "    plt.show()\n"
      ]
    },
    {
      "cell_type": "code",
      "execution_count": 13,
      "metadata": {
        "id": "nZ7CUTCExhIn",
        "outputId": "fc829223-3eac-40c3-dd81-b52cd4595de9"
      },
      "outputs": [
        {
          "data": {
            "image/png": "[encoded data removed]",
            "text/plain": [
              "<Figure size 1600x600 with 1 Axes>"
            ]
          },
          "metadata": {},
          "output_type": "display_data"
        }
      ],
      "source": [
        "if train_nsp_layer: #the NSP classification layer has been trained\n",
        "    performance_plot(perfermace_records, ignore_icat_plot=True)"
      ]
    },
    {
      "cell_type": "markdown",
      "metadata": {},
      "source": [
        "### Calculate Test Set Predictions (before applying bias mitigation)\n",
        "Either for intersentences or intrasentences"
      ]
    },
    {
      "cell_type": "code",
      "execution_count": 14,
      "metadata": {
        "colab": {
          "base_uri": "https://localhost:8080/",
          "height": 1000
        },
        "id": "YEZqNR5tnUOv",
        "outputId": "ef31890d-0fa4-488d-e2f5-63552726a6e0"
      },
      "outputs": [
        {
          "name": "stdout",
          "output_type": "stream",
          "text": [
            "Moving model to GPU...\n",
            "Underlying model moved to cuda.\n",
            "AdaptedNSPTransformer instance moved to GPU.\n",
            "Calculating intersentence predictions...\n"
          ]
        },
        {
          "name": "stderr",
          "output_type": "stream",
          "text": [
            "100%|██████████| 192/192 [00:12<00:00, 14.98it/s]\n",
            "\n"
          ]
        },
        {
          "name": "stdout",
          "output_type": "stream",
          "text": [
            "Moving model to GPU...\n",
            "Underlying model moved to cuda.\n",
            "AdaptedMLMTransformer instance moved to GPU.\n",
            "Let's use 1 GPUs!\n",
            "Calculating intrasentence predictions...\n"
          ]
        },
        {
          "name": "stderr",
          "output_type": "stream",
          "text": [
            "100%|██████████| 338/338 [00:31<00:00, 10.74it/s]\n",
            "\n"
          ]
        }
      ],
      "source": [
        "results = evaluator.evaluate(inter_targetModel=nsp_model)\n",
        "#print(results)\n",
        "\n",
        "#save evaluation predictions\n",
        "output_file = f\"{pretrained_model_name}_{OUTPUT_FILE_PRETRAINED}\"\n",
        "output_file = os.path.join(OUTPUT_DIR, output_file)\n",
        "with open(output_file, \"w+\") as f:\n",
        "    json.dump(results, f, indent=2)"
      ]
    },
    {
      "cell_type": "markdown",
      "metadata": {
        "id": "V1etsFElVkgI"
      },
      "source": [
        "### Bias Evaluation\n",
        "The paper of ```StereoSet``` considers three main scores in order to evaluate the dataset: the LM Score, SS Score, and ICAT Score, each measures a different aspect of model's performance:\n",
        "\n",
        "- LM Score (Language Modeling Score)  \n",
        "  The LM Score is a check that measures a model's ability to distinguish between a semantically comperhensented sentence and a nonsensical, unrelated one. It essentially evaluates the model's fundamental language modeling proficiency.\n",
        "  $$ LM = \\frac{Score(Stereotype)+Score(Anti−stereotype)}{Score(Stereotype)+Score(Anti−stereotype)+Score(Unrelated)} * 100$$\n",
        "\n",
        "  The ideal LM Score is 100%, which indicates that the model correctly assigns a higher probability to the meaningful sentences (both stereotypical and anti-stereotypical) than to the unrelated sentence.\n",
        "  If a model has a low LM Score, it means it's a poor language model to begin with, and its SS Score cannot be trusted.\n",
        "\n",
        "- SS Score (Stereoset Score)  \n",
        "  The SS Score is a percentage that measures a model's preference for stereotypical over anti-stereotypical associations. A score above 50% indicates a bias towards stereotypes.\n",
        "\n",
        "  $$ SS ​= \\frac{Score(Stereotype)}{Score(Anti−stereotype) + Score(Stereotype)} * 100$$\n",
        "\n",
        "- ICAT score (Idealized Context Association Test Score)  \n",
        "  The ICAT Score is the main, composite score (can be considered as **a metric for final evaluation** between models) that combines the LM Score and the SS Score into a single metric. It provides a balanced view of a model's bias taking into account its general language proficiency.\n",
        "  $$ ICAT = lm ∗ \\frac{min(ss, 100 − ss)}{50}$$\n",
        "  It rewards models that have a high LM Score and an SS Score close to 50%.\n"
      ]
    },
    {
      "cell_type": "code",
      "execution_count": 20,
      "metadata": {
        "id": "-QdUDlc_xhIo",
        "outputId": "a33304ac-5fb7-4bf7-ce42-5ca4fbf5e490"
      },
      "outputs": [
        {
          "name": "stdout",
          "output_type": "stream",
          "text": [
            "Overall scores for (roberta-base):\n",
            "Count: 635.0\n",
            "LM Score: 86.17001567534544\n",
            "SS Score: 52.26929706609919\n",
            "ICAT Score: 82.25910840018979\n",
            "Loss: 0.09395843713688828\n",
            "Loading already existing results file...\n",
            "Saving results to results.json...\n"
          ]
        }
      ],
      "source": [
        "print(f'Overall scores for ({nsp_model.model_name}):')\n",
        "score_evaluator = ScoreEvaluator(\n",
        "    gold_file_path=INPUT_FILE, predictions=results)\n",
        "overall = score_evaluator.get_overall_results()\n",
        "score_evaluator.pretty_print(overall['overall'])\n",
        "\n",
        "if os.path.exists(RESULTS_FILE):\n",
        "    with open(RESULTS_FILE, \"r\") as f:\n",
        "        print(\"Loading already existing results file...\")\n",
        "        d = json.load(f)\n",
        "else:\n",
        "    d = {}\n",
        "\n",
        "#assuming that the file follows a format of {MODELNAME}_predictions.json\"\n",
        "predictions_filename = os.path.basename(output_file)\n",
        "if \"_predictions\" in predictions_filename:\n",
        "    pretrained_class = predictions_filename.split(\"_\")[0]\n",
        "    d[pretrained_class] = overall\n",
        "else:\n",
        "    d = overall\n",
        "\n",
        "print(f\"Saving results to {RESULTS_FILE}...\")\n",
        "with open(RESULTS_FILE, \"w+\") as f:\n",
        "    json.dump(d, f, indent=2)"
      ]
    },
    {
      "cell_type": "markdown",
      "metadata": {},
      "source": [
        "### Model Plots (before applying bias mitigation)"
      ]
    },
    {
      "cell_type": "code",
      "execution_count": 21,
      "metadata": {},
      "outputs": [],
      "source": [
        "bias_types = [\"gender\", \"profession\", \"race\", \"religion\"]\n",
        "metrics = [\"LM Score\", \"SS Score\", \"ICAT Score\"]\n",
        "\n",
        "def plot_score_records(intra_data, inter_data, model_name):\n",
        "    x = range(len(bias_types))\n",
        "    width = 0.35\n",
        "\n",
        "    #plot scores\n",
        "    fig, axs = plt.subplots(1, 3, figsize=(15, 5))\n",
        "    fig.suptitle(f\"Score per Task and Bias Type ({model_name})\")\n",
        "    for idx, metric in enumerate(metrics):\n",
        "        axs[idx].bar([i - width/2 for i in x], intra_data[metric], width, label=\"Intrasentence\")\n",
        "        axs[idx].bar([i + width/2 for i in x], inter_data[metric], width, label=\"Intersentence\")\n",
        "        axs[idx].set_xticks(x)\n",
        "        axs[idx].set_xticklabels([bias_type.capitalize() for bias_type in bias_types], rotation=45)\n",
        "        axs[idx].set_title(metric)\n",
        "        axs[idx].legend(title=\"Task\")\n",
        "        axs[idx].set_ylabel(\"Score\")\n",
        "\n",
        "    plt.tight_layout()\n",
        "    plt.show()\n",
        "    plt.clf()"
      ]
    },
    {
      "cell_type": "code",
      "execution_count": 22,
      "metadata": {},
      "outputs": [],
      "source": [
        "def plot_loss_scores(intra_loss, inter_loss, model_name):\n",
        "    x = range(len(bias_types))\n",
        "    width = 0.35\n",
        "\n",
        "    plt.figure(figsize=(8, 5))\n",
        "    plt.bar([i - width/2 for i in x], intra_loss, width, label=\"Intrasentence\")\n",
        "    plt.bar([i + width/2 for i in x], inter_loss, width, label=\"Intersentence\")\n",
        "    plt.xticks(x, [bias_type.capitalize() for bias_type in bias_types], rotation=45)\n",
        "    plt.ylabel(\"Loss\")\n",
        "    plt.title(f\"Loss per Task and Bias Type ({model_name})\")\n",
        "    plt.legend(title=\"Task\")\n",
        "    plt.tight_layout()\n",
        "    plt.show()\n",
        "    plt.clf()"
      ]
    },
    {
      "cell_type": "code",
      "execution_count": 23,
      "metadata": {},
      "outputs": [
        {
          "data": {
            "image/png": "[encoded data removed]",
            "text/plain": [
              "<Figure size 1500x500 with 3 Axes>"
            ]
          },
          "metadata": {},
          "output_type": "display_data"
        },
        {
          "data": {
            "text/plain": [
              "<Figure size 640x480 with 0 Axes>"
            ]
          },
          "metadata": {},
          "output_type": "display_data"
        }
      ],
      "source": [
        "intra = d[\"roberta-base\"][\"intrasentence\"]\n",
        "inter = d[\"roberta-base\"][\"intersentence\"]\n",
        "\n",
        "#visualize scores per bias target and task types\n",
        "intra_data = {metric: [intra[bias][metric] for bias in bias_types] for metric in metrics}\n",
        "inter_data = {metric: [inter[bias][metric] for bias in bias_types] for metric in metrics}\n",
        "\n",
        "plot_score_records(intra_data, inter_data, nsp_model.model_name)"
      ]
    },
    {
      "cell_type": "code",
      "execution_count": 24,
      "metadata": {
        "id": "fJ_y_18xVkgK",
        "outputId": "d40222f7-3fd2-4d53-882d-367a9e1dcb14"
      },
      "outputs": [
        {
          "data": {
            "image/png": "[encoded data removed]",
            "text/plain": [
              "<Figure size 800x500 with 1 Axes>"
            ]
          },
          "metadata": {},
          "output_type": "display_data"
        },
        {
          "data": {
            "text/plain": [
              "<Figure size 640x480 with 0 Axes>"
            ]
          },
          "metadata": {},
          "output_type": "display_data"
        }
      ],
      "source": [
        "#visualize loss per bias target and task types\n",
        "intra_loss = [intra[bias][\"Loss\"] for bias in bias_types]\n",
        "inter_loss = [inter[bias][\"Loss\"] for bias in bias_types]\n",
        "\n",
        "plot_loss_scores(intra_loss, inter_loss, nsp_model.model_name)"
      ]
    },
    {
      "cell_type": "markdown",
      "metadata": {},
      "source": [
        "### Bias Mitigation Strategy\n",
        "The main goal is to update the model's behavior to prefer anti-stereotypical associations over stereotypical ones. In our experiment we prefer using **adapter layer** over contrastive-learning.  Instead of directly modifying the base pre-trained model (which could lead to catastrophic forgetting of its general language skills), the adapter layer acts as a new, trainable \"sub-model\".  \n",
        "We train only the adapter layer to specifically learn the patterns present in our training dataset. So the core main model knowledge remains frozen, ensuring computational efficiency (lower number of trainable parameters w.r.t. the pre-trained ones) and model (maintaining the original knowledge of the base pre-trained model).\n",
        "\n",
        "#### LoRA (Low Ranked Adaptation)\n",
        "....."
      ]
    },
    {
      "cell_type": "markdown",
      "metadata": {},
      "source": [
        "### What about Constrative Learning?\n",
        "....."
      ]
    },
    {
      "cell_type": "markdown",
      "metadata": {},
      "source": [
        "### Training Adapted Models"
      ]
    },
    {
      "cell_type": "markdown",
      "metadata": {},
      "source": [
        "#### Adapted NSP Model"
      ]
    },
    {
      "cell_type": "code",
      "execution_count": 25,
      "metadata": {},
      "outputs": [
        {
          "name": "stderr",
          "output_type": "stream",
          "text": [
            "Some weights of RobertaForSequenceClassification were not initialized from the model checkpoint at roberta-base and are newly initialized: ['classifier.dense.bias', 'classifier.dense.weight', 'classifier.out_proj.bias', 'classifier.out_proj.weight']\n",
            "You should probably TRAIN this model on a down-stream task to be able to use it for predictions and inference.\n"
          ]
        },
        {
          "name": "stdout",
          "output_type": "stream",
          "text": [
            "Trainable parameters in the NSP adapted model:\n",
            "trainable params: 887,042 || all params: 125,534,212 || trainable%: 0.7066\n",
            "Loaded RobertaForSequenceClassification classification layer from saved_models/roberta-base_nsp_classification_layer.pt\n",
            "Can't load NSP adapter layer, need to trained it...\n"
          ]
        }
      ],
      "source": [
        "nsp_model = AdaptedNSPTransformer(model_name=pretrained_model_name, use_adapter=True)\n",
        "\n",
        "nsp_layer_file = f\"{pretrained_model_name}_{NSP_LAYER_FILE_SUFFIX}\"\n",
        "nsp_layer_path = os.path.join(SAVED_MODEL_DIR, nsp_layer_file)\n",
        "train_adapter_layer = False\n",
        "\n",
        "#load the NSP classification layer\n",
        "nsp_model.load_nsp_layer(target_path=nsp_layer_path)\n",
        "\n",
        "if not train_adapter_layer:\n",
        "    try:\n",
        "        nsp_model.load_adapter_layer(target_path=SAVED_NSP_ADAPTER_DIR)\n",
        "    except:\n",
        "        print(\"Can't load NSP adapter layer, need to trained it...\")\n",
        "        train_adapter_layer = True"
      ]
    },
    {
      "cell_type": "code",
      "execution_count": 26,
      "metadata": {},
      "outputs": [
        {
          "name": "stdout",
          "output_type": "stream",
          "text": [
            "Epoch 1/10\n"
          ]
        },
        {
          "name": "stderr",
          "output_type": "stream",
          "text": [
            "c:\\Users\\abudo\\source\\vscode_projects\\MindTheGap\\intersentence_loader.py:70: UserWarning: To copy construct from a tensor, it is recommended to use sourceTensor.detach().clone() or sourceTensor.detach().clone().requires_grad_(True), rather than torch.tensor(sourceTensor).\n",
            "  input_ids = torch.tensor(input_ids)\n",
            "c:\\Users\\abudo\\source\\vscode_projects\\MindTheGap\\intersentence_loader.py:72: UserWarning: To copy construct from a tensor, it is recommended to use sourceTensor.detach().clone() or sourceTensor.detach().clone().requires_grad_(True), rather than torch.tensor(sourceTensor).\n",
            "  attention_mask = torch.tensor(attention_mask)\n"
          ]
        },
        {
          "name": "stdout",
          "output_type": "stream",
          "text": [
            "Moving model to GPU...\n",
            "Underlying model moved to cuda.\n",
            "AdaptedNSPTransformer instance moved to GPU.\n",
            "Calculating intersentence predictions...\n"
          ]
        },
        {
          "name": "stderr",
          "output_type": "stream",
          "text": [
            "  0%|          | 0/1083 [00:00<?, ?it/s]c:\\Users\\abudo\\source\\vscode_projects\\MindTheGap\\SentenceEvaluator.py:246: UserWarning: To copy construct from a tensor, it is recommended to use sourceTensor.detach().clone() or sourceTensor.detach().clone().requires_grad_(True), rather than torch.tensor(sourceTensor).\n",
            "  loss = self.loss_fn(torch.tensor(outputs[idx, 1].item()), torch.tensor(sentence_label[idx]))\n",
            "  0%|          | 3/1083 [00:00<00:41, 25.75it/s]c:\\Users\\abudo\\source\\vscode_projects\\MindTheGap\\SentenceEvaluator.py:246: UserWarning: To copy construct from a tensor, it is recommended to use sourceTensor.detach().clone() or sourceTensor.detach().clone().requires_grad_(True), rather than torch.tensor(sourceTensor).\n",
            "  loss = self.loss_fn(torch.tensor(outputs[idx, 1].item()), torch.tensor(sentence_label[idx]))\n",
            "100%|██████████| 1083/1083 [00:44<00:00, 24.43it/s]\n",
            "\n"
          ]
        },
        {
          "name": "stdout",
          "output_type": "stream",
          "text": [
            "Moving model to GPU...\n",
            "Underlying model moved to cuda.\n",
            "AdaptedNSPTransformer instance moved to GPU.\n",
            "Calculating intersentence predictions...\n"
          ]
        },
        {
          "name": "stderr",
          "output_type": "stream",
          "text": [
            "100%|██████████| 192/192 [00:07<00:00, 24.52it/s]\n",
            "\n"
          ]
        },
        {
          "name": "stdout",
          "output_type": "stream",
          "text": [
            "Training Loss: 0.024798793879512608, Validation Loss: 0.007664486009590621\n",
            "Example ID: bb7a8bd19a8cfdf1381f60715adfdbb5, Sentence ID: 20eb4fa5c9d23ac9feaf78b1cbddef10, Gold Label: anti-stereotype\n",
            "Example ID: bb7a8bd19a8cfdf1381f60715adfdbb5, Sentence ID: 907a891041d6c036e71e57867753157a, Gold Label: stereotype\n",
            "Example ID: bb7a8bd19a8cfdf1381f60715adfdbb5, Sentence ID: 53ed092cc068d16e24a77324b8115287, Gold Label: unrelated\n",
            "Example ID: bb7a8bd19a8cfdf1381f60715adfdbb5, Sentence ID: 20eb4fa5c9d23ac9feaf78b1cbddef10, Gold Label: anti-stereotype\n",
            "Example ID: bb7a8bd19a8cfdf1381f60715adfdbb5, Sentence ID: 907a891041d6c036e71e57867753157a, Gold Label: stereotype\n",
            "Example ID: bb7a8bd19a8cfdf1381f60715adfdbb5, Sentence ID: 53ed092cc068d16e24a77324b8115287, Gold Label: unrelated\n"
          ]
        },
        {
          "name": "stderr",
          "output_type": "stream",
          "text": [
            "c:\\Users\\abudo\\AppData\\Local\\Programs\\Python\\Python313\\Lib\\site-packages\\numpy\\_core\\fromnumeric.py:3860: RuntimeWarning: Mean of empty slice.\n",
            "  return _methods._mean(a, axis=axis, dtype=dtype,\n",
            "c:\\Users\\abudo\\AppData\\Local\\Programs\\Python\\Python313\\Lib\\site-packages\\numpy\\_core\\_methods.py:144: RuntimeWarning: invalid value encountered in scalar divide\n",
            "  ret = ret.dtype.type(ret / rcount)\n"
          ]
        },
        {
          "name": "stdout",
          "output_type": "stream",
          "text": [
            "Epoch 2/10\n",
            "Moving model to GPU...\n",
            "Underlying model moved to cuda.\n",
            "AdaptedNSPTransformer instance moved to GPU.\n",
            "Calculating intersentence predictions...\n",
            "Moving model to GPU...\n",
            "Underlying model moved to cuda.\n",
            "AdaptedNSPTransformer instance moved to GPU.\n",
            "Calculating intersentence predictions...\n"
          ]
        },
        {
          "name": "stderr",
          "output_type": "stream",
          "text": [
            "100%|██████████| 1083/1083 [00:43<00:00, 24.81it/s]\n",
            "\n"
          ]
        },
        {
          "name": "stdout",
          "output_type": "stream",
          "text": [
            "Moving model to GPU...\n",
            "Underlying model moved to cuda.\n",
            "AdaptedNSPTransformer instance moved to GPU.\n",
            "Calculating intersentence predictions...\n"
          ]
        },
        {
          "name": "stderr",
          "output_type": "stream",
          "text": [
            "100%|██████████| 192/192 [00:07<00:00, 24.81it/s]\n",
            "\n"
          ]
        },
        {
          "name": "stdout",
          "output_type": "stream",
          "text": [
            "Training Loss: 0.01166953296253381, Validation Loss: 0.005049376031058237\n",
            "Example ID: bb7a8bd19a8cfdf1381f60715adfdbb5, Sentence ID: 20eb4fa5c9d23ac9feaf78b1cbddef10, Gold Label: anti-stereotype\n",
            "Example ID: bb7a8bd19a8cfdf1381f60715adfdbb5, Sentence ID: 907a891041d6c036e71e57867753157a, Gold Label: stereotype\n",
            "Example ID: bb7a8bd19a8cfdf1381f60715adfdbb5, Sentence ID: 53ed092cc068d16e24a77324b8115287, Gold Label: unrelated\n",
            "Epoch 3/10\n",
            "Example ID: bb7a8bd19a8cfdf1381f60715adfdbb5, Sentence ID: 20eb4fa5c9d23ac9feaf78b1cbddef10, Gold Label: anti-stereotype\n",
            "Example ID: bb7a8bd19a8cfdf1381f60715adfdbb5, Sentence ID: 907a891041d6c036e71e57867753157a, Gold Label: stereotype\n",
            "Example ID: bb7a8bd19a8cfdf1381f60715adfdbb5, Sentence ID: 53ed092cc068d16e24a77324b8115287, Gold Label: unrelated\n",
            "Epoch 3/10\n",
            "Moving model to GPU...\n",
            "Underlying model moved to cuda.\n",
            "AdaptedNSPTransformer instance moved to GPU.\n",
            "Calculating intersentence predictions...\n",
            "Moving model to GPU...\n",
            "Underlying model moved to cuda.\n",
            "AdaptedNSPTransformer instance moved to GPU.\n",
            "Calculating intersentence predictions...\n"
          ]
        },
        {
          "name": "stderr",
          "output_type": "stream",
          "text": [
            "100%|██████████| 1083/1083 [00:43<00:00, 24.77it/s]\n",
            "\n"
          ]
        },
        {
          "name": "stdout",
          "output_type": "stream",
          "text": [
            "Moving model to GPU...\n",
            "Underlying model moved to cuda.\n",
            "AdaptedNSPTransformer instance moved to GPU.\n",
            "Calculating intersentence predictions...\n"
          ]
        },
        {
          "name": "stderr",
          "output_type": "stream",
          "text": [
            "100%|██████████| 192/192 [00:07<00:00, 24.57it/s]\n",
            "\n"
          ]
        },
        {
          "name": "stdout",
          "output_type": "stream",
          "text": [
            "Training Loss: 0.009262828470521577, Validation Loss: 0.006605040729231425\n",
            "Example ID: bb7a8bd19a8cfdf1381f60715adfdbb5, Sentence ID: 20eb4fa5c9d23ac9feaf78b1cbddef10, Gold Label: anti-stereotype\n",
            "Example ID: bb7a8bd19a8cfdf1381f60715adfdbb5, Sentence ID: 907a891041d6c036e71e57867753157a, Gold Label: stereotype\n",
            "Example ID: bb7a8bd19a8cfdf1381f60715adfdbb5, Sentence ID: 53ed092cc068d16e24a77324b8115287, Gold Label: unrelated\n",
            "Epoch 4/10\n",
            "Epoch 4/10\n",
            "Moving model to GPU...\n",
            "Underlying model moved to cuda.\n",
            "AdaptedNSPTransformer instance moved to GPU.\n",
            "Calculating intersentence predictions...\n",
            "Moving model to GPU...\n",
            "Underlying model moved to cuda.\n",
            "AdaptedNSPTransformer instance moved to GPU.\n",
            "Calculating intersentence predictions...\n"
          ]
        },
        {
          "name": "stderr",
          "output_type": "stream",
          "text": [
            "100%|██████████| 1083/1083 [00:43<00:00, 24.94it/s]\n",
            "100%|██████████| 1083/1083 [00:43<00:00, 24.94it/s]\n"
          ]
        },
        {
          "name": "stdout",
          "output_type": "stream",
          "text": [
            "Moving model to GPU...\n",
            "Underlying model moved to cuda.\n",
            "AdaptedNSPTransformer instance moved to GPU.\n",
            "Calculating intersentence predictions...\n"
          ]
        },
        {
          "name": "stderr",
          "output_type": "stream",
          "text": [
            "100%|██████████| 192/192 [00:07<00:00, 24.93it/s]\n",
            "\n"
          ]
        },
        {
          "name": "stdout",
          "output_type": "stream",
          "text": [
            "Training Loss: 0.008650598775600184, Validation Loss: 0.005138429852751819\n",
            "Example ID: bb7a8bd19a8cfdf1381f60715adfdbb5, Sentence ID: 20eb4fa5c9d23ac9feaf78b1cbddef10, Gold Label: anti-stereotype\n",
            "Example ID: bb7a8bd19a8cfdf1381f60715adfdbb5, Sentence ID: 907a891041d6c036e71e57867753157a, Gold Label: stereotype\n",
            "Example ID: bb7a8bd19a8cfdf1381f60715adfdbb5, Sentence ID: 53ed092cc068d16e24a77324b8115287, Gold Label: unrelated\n",
            "Epoch 5/10\n",
            "Epoch 5/10\n",
            "Moving model to GPU...\n",
            "Underlying model moved to cuda.\n",
            "AdaptedNSPTransformer instance moved to GPU.\n",
            "Calculating intersentence predictions...\n",
            "Moving model to GPU...\n",
            "Underlying model moved to cuda.\n",
            "AdaptedNSPTransformer instance moved to GPU.\n",
            "Calculating intersentence predictions...\n"
          ]
        },
        {
          "name": "stderr",
          "output_type": "stream",
          "text": [
            "100%|██████████| 1083/1083 [00:43<00:00, 24.62it/s]\n",
            "100%|██████████| 1083/1083 [00:43<00:00, 24.62it/s]\n"
          ]
        },
        {
          "name": "stdout",
          "output_type": "stream",
          "text": [
            "Moving model to GPU...\n",
            "Underlying model moved to cuda.\n",
            "AdaptedNSPTransformer instance moved to GPU.\n",
            "Calculating intersentence predictions...\n"
          ]
        },
        {
          "name": "stderr",
          "output_type": "stream",
          "text": [
            "100%|██████████| 192/192 [00:07<00:00, 24.89it/s]\n",
            "\n"
          ]
        },
        {
          "name": "stdout",
          "output_type": "stream",
          "text": [
            "Training Loss: 0.006672159203224809, Validation Loss: 0.006251521128972065\n",
            "Example ID: bb7a8bd19a8cfdf1381f60715adfdbb5, Sentence ID: 20eb4fa5c9d23ac9feaf78b1cbddef10, Gold Label: anti-stereotype\n",
            "Example ID: bb7a8bd19a8cfdf1381f60715adfdbb5, Sentence ID: 907a891041d6c036e71e57867753157a, Gold Label: stereotype\n",
            "Example ID: bb7a8bd19a8cfdf1381f60715adfdbb5, Sentence ID: 53ed092cc068d16e24a77324b8115287, Gold Label: unrelated\n",
            "Epoch 6/10\n",
            "Epoch 6/10\n",
            "Moving model to GPU...\n",
            "Underlying model moved to cuda.\n",
            "AdaptedNSPTransformer instance moved to GPU.\n",
            "Calculating intersentence predictions...\n",
            "Moving model to GPU...\n",
            "Underlying model moved to cuda.\n",
            "AdaptedNSPTransformer instance moved to GPU.\n",
            "Calculating intersentence predictions...\n"
          ]
        },
        {
          "name": "stderr",
          "output_type": "stream",
          "text": [
            "100%|██████████| 1083/1083 [00:43<00:00, 24.78it/s]\n",
            "\n"
          ]
        },
        {
          "name": "stdout",
          "output_type": "stream",
          "text": [
            "Moving model to GPU...\n",
            "Underlying model moved to cuda.\n",
            "AdaptedNSPTransformer instance moved to GPU.\n",
            "Calculating intersentence predictions...\n"
          ]
        },
        {
          "name": "stderr",
          "output_type": "stream",
          "text": [
            "100%|██████████| 192/192 [00:07<00:00, 24.93it/s]\n",
            "\n"
          ]
        },
        {
          "name": "stdout",
          "output_type": "stream",
          "text": [
            "Training Loss: 0.00715081801349458, Validation Loss: 0.004334863324205803\n",
            "Example ID: bb7a8bd19a8cfdf1381f60715adfdbb5, Sentence ID: 20eb4fa5c9d23ac9feaf78b1cbddef10, Gold Label: anti-stereotype\n",
            "Example ID: bb7a8bd19a8cfdf1381f60715adfdbb5, Sentence ID: 907a891041d6c036e71e57867753157a, Gold Label: stereotype\n",
            "Example ID: bb7a8bd19a8cfdf1381f60715adfdbb5, Sentence ID: 53ed092cc068d16e24a77324b8115287, Gold Label: unrelated\n",
            "Epoch 7/10\n",
            "Example ID: bb7a8bd19a8cfdf1381f60715adfdbb5, Sentence ID: 20eb4fa5c9d23ac9feaf78b1cbddef10, Gold Label: anti-stereotype\n",
            "Example ID: bb7a8bd19a8cfdf1381f60715adfdbb5, Sentence ID: 907a891041d6c036e71e57867753157a, Gold Label: stereotype\n",
            "Example ID: bb7a8bd19a8cfdf1381f60715adfdbb5, Sentence ID: 53ed092cc068d16e24a77324b8115287, Gold Label: unrelated\n",
            "Epoch 7/10\n",
            "Moving model to GPU...\n",
            "Underlying model moved to cuda.\n",
            "AdaptedNSPTransformer instance moved to GPU.\n",
            "Calculating intersentence predictions...\n",
            "Moving model to GPU...\n",
            "Underlying model moved to cuda.\n",
            "AdaptedNSPTransformer instance moved to GPU.\n",
            "Calculating intersentence predictions...\n"
          ]
        },
        {
          "name": "stderr",
          "output_type": "stream",
          "text": [
            "100%|██████████| 1083/1083 [00:45<00:00, 23.95it/s]\n",
            "100%|██████████| 1083/1083 [00:45<00:00, 23.95it/s]\n"
          ]
        },
        {
          "name": "stdout",
          "output_type": "stream",
          "text": [
            "Moving model to GPU...\n",
            "Underlying model moved to cuda.\n",
            "AdaptedNSPTransformer instance moved to GPU.\n",
            "Calculating intersentence predictions...\n"
          ]
        },
        {
          "name": "stderr",
          "output_type": "stream",
          "text": [
            "100%|██████████| 192/192 [00:07<00:00, 24.17it/s]\n",
            "\n"
          ]
        },
        {
          "name": "stdout",
          "output_type": "stream",
          "text": [
            "Training Loss: 0.005579802812341565, Validation Loss: 0.004972435156639955\n",
            "Example ID: bb7a8bd19a8cfdf1381f60715adfdbb5, Sentence ID: 20eb4fa5c9d23ac9feaf78b1cbddef10, Gold Label: anti-stereotype\n",
            "Example ID: bb7a8bd19a8cfdf1381f60715adfdbb5, Sentence ID: 907a891041d6c036e71e57867753157a, Gold Label: stereotype\n",
            "Example ID: bb7a8bd19a8cfdf1381f60715adfdbb5, Sentence ID: 53ed092cc068d16e24a77324b8115287, Gold Label: unrelated\n",
            "Epoch 8/10\n",
            "Example ID: bb7a8bd19a8cfdf1381f60715adfdbb5, Sentence ID: 20eb4fa5c9d23ac9feaf78b1cbddef10, Gold Label: anti-stereotype\n",
            "Example ID: bb7a8bd19a8cfdf1381f60715adfdbb5, Sentence ID: 907a891041d6c036e71e57867753157a, Gold Label: stereotype\n",
            "Example ID: bb7a8bd19a8cfdf1381f60715adfdbb5, Sentence ID: 53ed092cc068d16e24a77324b8115287, Gold Label: unrelated\n",
            "Epoch 8/10\n",
            "Moving model to GPU...\n",
            "Underlying model moved to cuda.\n",
            "AdaptedNSPTransformer instance moved to GPU.\n",
            "Calculating intersentence predictions...\n",
            "Moving model to GPU...\n",
            "Underlying model moved to cuda.\n",
            "AdaptedNSPTransformer instance moved to GPU.\n",
            "Calculating intersentence predictions...\n"
          ]
        },
        {
          "name": "stderr",
          "output_type": "stream",
          "text": [
            "100%|██████████| 1083/1083 [00:43<00:00, 24.81it/s]\n",
            "100%|██████████| 1083/1083 [00:43<00:00, 24.81it/s]\n"
          ]
        },
        {
          "name": "stdout",
          "output_type": "stream",
          "text": [
            "Moving model to GPU...\n",
            "Underlying model moved to cuda.\n",
            "AdaptedNSPTransformer instance moved to GPU.\n",
            "Calculating intersentence predictions...\n"
          ]
        },
        {
          "name": "stderr",
          "output_type": "stream",
          "text": [
            "100%|██████████| 192/192 [00:07<00:00, 24.86it/s]\n",
            "\n"
          ]
        },
        {
          "name": "stdout",
          "output_type": "stream",
          "text": [
            "Training Loss: 0.00529506922739554, Validation Loss: 0.004782657083796461\n",
            "Example ID: bb7a8bd19a8cfdf1381f60715adfdbb5, Sentence ID: 20eb4fa5c9d23ac9feaf78b1cbddef10, Gold Label: anti-stereotype\n",
            "Example ID: bb7a8bd19a8cfdf1381f60715adfdbb5, Sentence ID: 907a891041d6c036e71e57867753157a, Gold Label: stereotype\n",
            "Example ID: bb7a8bd19a8cfdf1381f60715adfdbb5, Sentence ID: 53ed092cc068d16e24a77324b8115287, Gold Label: unrelated\n",
            "Epoch 9/10\n",
            "Epoch 9/10\n",
            "Moving model to GPU...\n",
            "Underlying model moved to cuda.\n",
            "AdaptedNSPTransformer instance moved to GPU.\n",
            "Calculating intersentence predictions...\n",
            "Moving model to GPU...\n",
            "Underlying model moved to cuda.\n",
            "AdaptedNSPTransformer instance moved to GPU.\n",
            "Calculating intersentence predictions...\n"
          ]
        },
        {
          "name": "stderr",
          "output_type": "stream",
          "text": [
            "100%|██████████| 1083/1083 [00:43<00:00, 24.83it/s]\n",
            "\n"
          ]
        },
        {
          "name": "stdout",
          "output_type": "stream",
          "text": [
            "Moving model to GPU...\n",
            "Underlying model moved to cuda.\n",
            "AdaptedNSPTransformer instance moved to GPU.\n",
            "Calculating intersentence predictions...\n"
          ]
        },
        {
          "name": "stderr",
          "output_type": "stream",
          "text": [
            "100%|██████████| 192/192 [00:07<00:00, 24.87it/s]\n",
            "\n"
          ]
        },
        {
          "name": "stdout",
          "output_type": "stream",
          "text": [
            "Training Loss: 0.005102738547681678, Validation Loss: 0.00400514881528792\n",
            "Example ID: bb7a8bd19a8cfdf1381f60715adfdbb5, Sentence ID: 20eb4fa5c9d23ac9feaf78b1cbddef10, Gold Label: anti-stereotype\n",
            "Example ID: bb7a8bd19a8cfdf1381f60715adfdbb5, Sentence ID: 907a891041d6c036e71e57867753157a, Gold Label: stereotype\n",
            "Example ID: bb7a8bd19a8cfdf1381f60715adfdbb5, Sentence ID: 53ed092cc068d16e24a77324b8115287, Gold Label: unrelated\n",
            "Epoch 10/10\n",
            "Epoch 10/10\n",
            "Moving model to GPU...\n",
            "Underlying model moved to cuda.\n",
            "AdaptedNSPTransformer instance moved to GPU.\n",
            "Calculating intersentence predictions...\n",
            "Moving model to GPU...\n",
            "Underlying model moved to cuda.\n",
            "AdaptedNSPTransformer instance moved to GPU.\n",
            "Calculating intersentence predictions...\n"
          ]
        },
        {
          "name": "stderr",
          "output_type": "stream",
          "text": [
            "100%|██████████| 1083/1083 [00:43<00:00, 24.63it/s]\n",
            "100%|██████████| 1083/1083 [00:43<00:00, 24.63it/s]\n"
          ]
        },
        {
          "name": "stdout",
          "output_type": "stream",
          "text": [
            "Moving model to GPU...\n",
            "Underlying model moved to cuda.\n",
            "AdaptedNSPTransformer instance moved to GPU.\n",
            "Calculating intersentence predictions...\n"
          ]
        },
        {
          "name": "stderr",
          "output_type": "stream",
          "text": [
            "100%|██████████| 192/192 [00:07<00:00, 24.58it/s]\n",
            "\n"
          ]
        },
        {
          "name": "stdout",
          "output_type": "stream",
          "text": [
            "Training Loss: 0.004659742316304227, Validation Loss: 0.003961216691160555\n",
            "Example ID: bb7a8bd19a8cfdf1381f60715adfdbb5, Sentence ID: 20eb4fa5c9d23ac9feaf78b1cbddef10, Gold Label: anti-stereotype\n",
            "Example ID: bb7a8bd19a8cfdf1381f60715adfdbb5, Sentence ID: 907a891041d6c036e71e57867753157a, Gold Label: stereotype\n",
            "Example ID: bb7a8bd19a8cfdf1381f60715adfdbb5, Sentence ID: 53ed092cc068d16e24a77324b8115287, Gold Label: unrelated\n"
          ]
        }
      ],
      "source": [
        "optimizer = AdamW(nsp_model.adapted_model.parameters(), lr=LEARNING_RATE)\n",
        "lr_scheduler = get_scheduler(\n",
        "    \"linear\",\n",
        "    optimizer=optimizer,\n",
        "    num_warmup_steps=0,\n",
        "    num_training_steps=NUM_EPOCHS * len(evaluator.inter_train_dataset)) \n",
        "\n",
        "perfermace_records = defaultdict(list)\n",
        "if train_adapter_layer:\n",
        "    #Train adapter head for AutoModelForSequenceClassification\n",
        "    for epoch in range(NUM_EPOCHS):\n",
        "        print(f\"Epoch {epoch+1}/{NUM_EPOCHS}\")\n",
        "        train_loss = nsp_model.train_epoch(train_dataset=evaluator.inter_train_dataset,\n",
        "                                           optimizer=optimizer,\n",
        "                                           lr_scheduler=lr_scheduler,\n",
        "                                           loss_fn=nn.MSELoss,\n",
        "                                           batch_size=BATCH_SIZE, \n",
        "                                           device=evaluator.device)\n",
        "\n",
        "        #record training and validation loss\n",
        "        train_results = evaluator.evaluate_intersentence(targetModel=nsp_model, useTrainingSet=True)\n",
        "        # train_loss = sum([train_result['loss'] for train_result in train_results]) / len(train_results)\n",
        "        val_results = evaluator.evaluate_intersentence(targetModel=nsp_model)\n",
        "        val_loss = sum([val_result['loss'] for val_result in val_results]) / len(val_results)\n",
        "        print(f\"Training Loss: {train_loss}, Validation Loss: {val_loss}\")\n",
        "        perfermace_records['train_loss'].append(train_loss)\n",
        "        perfermace_records['val_loss'].append(val_loss)\n",
        "\n",
        "        score_evaluator = ScoreEvaluator(\n",
        "            gold_file_path=INPUT_FILE, predictions={\"intersentence\":train_results})\n",
        "        train_overall = score_evaluator.get_overall_results()\n",
        "        score_evaluator = ScoreEvaluator(\n",
        "            gold_file_path=INPUT_FILE, predictions={\"intersentence\":val_results})\n",
        "        val_overall = score_evaluator.get_overall_results()\n",
        "\n",
        "        perfermace_records['train_icat'].append(train_overall['overall']['ICAT Score'])\n",
        "        perfermace_records['val_icat'].append(val_overall['overall']['ICAT Score'])"
      ]
    },
    {
      "cell_type": "code",
      "execution_count": 27,
      "metadata": {},
      "outputs": [
        {
          "name": "stdout",
          "output_type": "stream",
          "text": [
            "Saved RobertaForSequenceClassification adapter layer in saved_models/nsp_adapter/\n"
          ]
        }
      ],
      "source": [
        "#save adapter layer's weights\n",
        "if train_adapter_layer:\n",
        "    nsp_model.save_adapter_layer(target_path=SAVED_NSP_ADAPTER_DIR)"
      ]
    },
    {
      "cell_type": "code",
      "execution_count": 28,
      "metadata": {},
      "outputs": [
        {
          "data": {
            "image/png": "[encoded data removed]",
            "text/plain": [
              "<Figure size 1600x600 with 2 Axes>"
            ]
          },
          "metadata": {},
          "output_type": "display_data"
        }
      ],
      "source": [
        "if train_adapter_layer: #the NSP adapter layer has been trained\n",
        "    performance_plot(perfermace_records, ignore_icat_plot=False)"
      ]
    },
    {
      "cell_type": "markdown",
      "metadata": {},
      "source": [
        "#### Adapted MLM Model"
      ]
    },
    {
      "cell_type": "code",
      "execution_count": null,
      "metadata": {},
      "outputs": [],
      "source": [
        "mlm_model = AdaptedMLMTransformer(model_name=pretrained_model_name, use_adapter=True)\n",
        "train_adapter_layer = False\n",
        "\n",
        "if not train_adapter_layer:\n",
        "    try:\n",
        "        mlm_model.load_adapter_layer(target_path=SAVED_MLM_ADAPTER_DIR)\n",
        "    except:\n",
        "        print(\"Can't load MLM adapter layer, need to trained it...\")\n",
        "        train_adapter_layer = True"
      ]
    },
    {
      "cell_type": "code",
      "execution_count": null,
      "metadata": {},
      "outputs": [],
      "source": [
        "optimizer = AdamW(mlm_model.adapted_model.parameters(), lr=LEARNING_RATE)\n",
        "lr_scheduler = get_scheduler(\n",
        "    \"linear\",\n",
        "    optimizer=optimizer,\n",
        "    num_warmup_steps=0,\n",
        "    num_training_steps=NUM_EPOCHS * len(evaluator.intra_train_dataset)) \n",
        "\n",
        "perfermace_records = defaultdict(list)\n",
        "if train_adapter_layer:\n",
        "    #Train adapter head for AutoModelForMaskedLM\n",
        "    for epoch in range(NUM_EPOCHS):\n",
        "        print(f\"Epoch {epoch+1}/{NUM_EPOCHS}\")\n",
        "        train_loss = mlm_model.train_epoch(train_dataset=evaluator.intra_train_dataset,\n",
        "                                           optimizer=optimizer,\n",
        "                                           lr_scheduler=lr_scheduler,\n",
        "                                           loss_fn=nn.MSELoss,\n",
        "                                           batch_size=BATCH_SIZE, \n",
        "                                           device=evaluator.device)\n",
        "\n",
        "        #record training and validation loss\n",
        "        train_results = evaluator.evaluate_intrasentence(targetModel=mlm_model, useTrainingSet=True)\n",
        "        #train_loss = sum([train_result['loss'] for train_result in train_results]) / len(train_results)\n",
        "        val_results = evaluator.evaluate_intrasentence(targetModel=mlm_model)\n",
        "        val_loss = sum([val_result['loss'] for val_result in val_results]) / len(val_results)\n",
        "        print(f\"Training Loss: {train_loss}, Validation Loss: {val_loss}\")\n",
        "        perfermace_records['train_loss'].append(train_loss)\n",
        "        perfermace_records['val_loss'].append(val_loss)\n",
        "        \n",
        "        score_evaluator = ScoreEvaluator(\n",
        "            gold_file_path=INPUT_FILE, predictions={\"intrasentence\":train_results})\n",
        "        train_overall = score_evaluator.get_overall_results()\n",
        "        score_evaluator = ScoreEvaluator(\n",
        "            gold_file_path=INPUT_FILE, predictions={\"intrasentence\":val_results})\n",
        "        val_overall = score_evaluator.get_overall_results()\n",
        "\n",
        "        perfermace_records['train_icat'].append(train_overall['overall']['ICAT Score'])\n",
        "        perfermace_records['val_icat'].append(val_overall['overall']['ICAT Score'])"
      ]
    },
    {
      "cell_type": "code",
      "execution_count": null,
      "metadata": {},
      "outputs": [],
      "source": [
        "#save adapter layer's weights\n",
        "if train_adapter_layer:\n",
        "    mlm_model.save_adapter_layer(target_path=SAVED_MLM_ADAPTER_DIR)"
      ]
    },
    {
      "cell_type": "code",
      "execution_count": null,
      "metadata": {},
      "outputs": [],
      "source": [
        "if train_adapter_layer: #the MLM adapter layer has been trained\n",
        "    performance_plot(perfermace_records, ignore_icat_plot=True)"
      ]
    },
    {
      "cell_type": "markdown",
      "metadata": {},
      "source": [
        "### Calculate Test Set Predictions (after applying bias mitigation)\n",
        "Either for intersentences or intrasentences"
      ]
    },
    {
      "cell_type": "code",
      "execution_count": null,
      "metadata": {},
      "outputs": [],
      "source": [
        "results = evaluator.evaluate(intra_targetModel=mlm_model, inter_targetModel=nsp_model)\n",
        "#print(results)\n",
        "\n",
        "#save evaluation predictions\n",
        "output_file = f\"{nsp_model.model_name}_{OUTPUT_FILE_PRETRAINED}\"\n",
        "output_file = os.path.join(OUTPUT_DIR, output_file)\n",
        "with open(output_file, \"w+\") as f:\n",
        "    json.dump(results, f, indent=2)"
      ]
    },
    {
      "cell_type": "markdown",
      "metadata": {},
      "source": [
        "### Bias Evaluation of Adapted Pre-trained Model"
      ]
    },
    {
      "cell_type": "code",
      "execution_count": null,
      "metadata": {},
      "outputs": [],
      "source": [
        "print(f'Overall scores for ({nsp_model.model_name}):')\n",
        "score_evaluator = ScoreEvaluator(\n",
        "    gold_file_path=INPUT_FILE, predictions=results)\n",
        "overall = score_evaluator.get_overall_results()\n",
        "score_evaluator.pretty_print(overall['overall'])\n",
        "\n",
        "#load existing results of any model\n",
        "if os.path.exists(RESULTS_FILE):\n",
        "    with open(RESULTS_FILE, \"r\") as f:\n",
        "        print(\"Loading already existing results file...\")\n",
        "        d = json.load(f)\n",
        "else:\n",
        "    d = {}\n",
        "\n",
        "#assuming that the file follows a format of {MODELNAME}_predictions.json\"\n",
        "predictions_filename = os.path.basename(output_file)\n",
        "if \"_predictions\" in predictions_filename:\n",
        "    pretrained_class = predictions_filename.replace(\"_predictions.json\", \"\")\n",
        "    d[pretrained_class] = overall\n",
        "else:\n",
        "    d = overall\n",
        "\n",
        "print(f\"Saving results to {RESULTS_FILE}...\")\n",
        "with open(RESULTS_FILE, \"w+\") as f:\n",
        "    json.dump(d, f, indent=2)"
      ]
    },
    {
      "cell_type": "markdown",
      "metadata": {},
      "source": [
        "### Model Plots (after applying bias mitigation)"
      ]
    },
    {
      "cell_type": "code",
      "execution_count": null,
      "metadata": {},
      "outputs": [],
      "source": [
        "intra = d[nsp_model.model_name][\"intrasentence\"]\n",
        "inter = d[nsp_model.model_name][\"intersentence\"]\n",
        "\n",
        "#visualize scores per bias target and task types\n",
        "intra_data = {metric: [intra[bias][metric] for bias in bias_types] for metric in metrics}\n",
        "inter_data = {metric: [inter[bias][metric] for bias in bias_types] for metric in metrics}\n",
        "\n",
        "plot_score_records(intra_data, inter_data, nsp_model.model_name)"
      ]
    },
    {
      "cell_type": "code",
      "execution_count": null,
      "metadata": {},
      "outputs": [],
      "source": [
        "#visualize loss per bias target and task types\n",
        "intra_loss = [intra[bias][\"Loss\"] for bias in bias_types]\n",
        "inter_loss = [inter[bias][\"Loss\"] for bias in bias_types]\n",
        "\n",
        "plot_loss_scores(intra_loss, inter_loss, nsp_model.model_name)"
      ]
    }
  ],
  "metadata": {
    "accelerator": "GPU",
    "colab": {
      "gpuType": "T4",
      "provenance": []
    },
    "kernelspec": {
      "display_name": "Python 3",
      "name": "python3"
    },
    "language_info": {
      "codemirror_mode": {
        "name": "ipython",
        "version": 3
      },
      "file_extension": ".py",
      "mimetype": "text/x-python",
      "name": "python",
      "nbconvert_exporter": "python",
      "pygments_lexer": "ipython3",
      "version": "3.13.7"
    }
  },
  "nbformat": 4,
  "nbformat_minor": 0
}
